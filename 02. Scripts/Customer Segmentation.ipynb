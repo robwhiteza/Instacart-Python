{
 "cells": [
  {
   "cell_type": "markdown",
   "id": "4e7bcee9",
   "metadata": {},
   "source": [
    "# Key Questions:\n",
    "\n",
    "- The sales team needs to know what the busiest days of the week and hours of the day are (i.e., the days and times with the most orders) in order to schedule ads at times when there are fewer orders.\n",
    "- They also want to know whether there are particular times of the day when people spend the most money, as this might inform the type of products they advertise at these times.\n",
    "- Instacart has a lot of products with different price tags. Marketing and sales want to use simpler price range groupings to help direct their efforts.\n",
    "- Are there certain types of products that are more popular than others? The marketing and sales teams want to know which departments have the highest frequency of product orders.\n",
    "\n",
    "The marketing and sales teams are particularly interested in the different types of customers in their system and how their ordering behaviors differ. For example:\n",
    " - What’s the distribution among users in regards to their brand loyalty (i.e., how often do they return to Instacart)?\n",
    " - Are there differences in ordering habits based on a customer’s loyalty status?\n",
    " - Are there differences in ordering habits based on a customer’s region?\n",
    " - Is there a connection between age and family status in terms of ordering habits?\n",
    " - What different classifications does the demographic information suggest?\n",
    " - Age? Income? Certain types of goods? Family status?\n",
    " - What differences can you find in ordering habits of different customer profiles? Consider the price of orders, the frequency of orders, the products customers are ordering, and anything else you can think of."
   ]
  },
  {
   "cell_type": "code",
   "execution_count": 55,
   "id": "de57d1e9",
   "metadata": {},
   "outputs": [],
   "source": [
    "# importing libraries\n",
    "import pandas as pd\n",
    "import numpy as np"
   ]
  },
  {
   "cell_type": "code",
   "execution_count": 56,
   "id": "4adff045",
   "metadata": {},
   "outputs": [
    {
     "data": {
      "text/plain": [
       "(32404859, 20)"
      ]
     },
     "execution_count": 56,
     "metadata": {},
     "output_type": "execute_result"
    }
   ],
   "source": [
    "# importing merged_df\n",
    "merged_df = pd.read_pickle('/Volumes/external_drive/Instacart/Data/Prepared Data/instacart_merged.pkl')\n",
    "merged_df.shape"
   ]
  },
  {
   "cell_type": "markdown",
   "id": "92fe3c69",
   "metadata": {},
   "source": [
    "## 1. Determining the two busiest and slowest days of the week"
   ]
  },
  {
   "cell_type": "code",
   "execution_count": 57,
   "id": "e74e3401",
   "metadata": {},
   "outputs": [
    {
     "data": {
      "text/plain": [
       "order_dow\n",
       "0    6204182\n",
       "1    5660230\n",
       "6    4496490\n",
       "2    4213830\n",
       "5    4205791\n",
       "3    3840534\n",
       "4    3783802\n",
       "dtype: int64"
      ]
     },
     "execution_count": 57,
     "metadata": {},
     "output_type": "execute_result"
    }
   ],
   "source": [
    "# checking frequency of orders\n",
    "# 0 = Saturday\n",
    "# 1 = Sunday\n",
    "# 2 = Monday\n",
    "# 3 = Tuesday\n",
    "# 4 = Wednesday\n",
    "# 5 = Thursday\n",
    "# 6 = Friday\n",
    "\n",
    "merged_df.value_counts('order_dow')"
   ]
  },
  {
   "cell_type": "code",
   "execution_count": 58,
   "id": "8a34d33d",
   "metadata": {},
   "outputs": [],
   "source": [
    "# creating a new column called busiest days and adding values to column\n",
    "busiest_days = []\n",
    "\n",
    "for value in merged_df[\"order_dow\"]:\n",
    "  if value == 0 or value == 1:\n",
    "    busiest_days.append(\"busiest days\")\n",
    "  elif value == 4 or value == 3:\n",
    "    busiest_days.append(\"slowest days\")\n",
    "  else:\n",
    "    busiest_days.append(\"regular day\")\n",
    "    \n",
    "merged_df['busiest_days'] = busiest_days"
   ]
  },
  {
   "cell_type": "code",
   "execution_count": 59,
   "id": "939550c7",
   "metadata": {},
   "outputs": [
    {
     "data": {
      "text/plain": [
       "busiest_days\n",
       "regular day     12916111\n",
       "busiest days    11864412\n",
       "slowest days     7624336\n",
       "dtype: int64"
      ]
     },
     "execution_count": 59,
     "metadata": {},
     "output_type": "execute_result"
    }
   ],
   "source": [
    "merged_df.value_counts('busiest_days')"
   ]
  },
  {
   "cell_type": "markdown",
   "id": "04fb4b69",
   "metadata": {},
   "source": [
    "## 2. Determining the busiest times of day"
   ]
  },
  {
   "cell_type": "code",
   "execution_count": 60,
   "id": "de562ced",
   "metadata": {},
   "outputs": [
    {
     "data": {
      "text/plain": [
       "order_hour_of_day\n",
       "10    2761760\n",
       "11    2736140\n",
       "14    2689136\n",
       "15    2662144\n",
       "13    2660954\n",
       "12    2618532\n",
       "16    2535202\n",
       "9     2454203\n",
       "17    2087654\n",
       "8     1718118\n",
       "18    1636502\n",
       "19    1258305\n",
       "20     976156\n",
       "7      891054\n",
       "21     795637\n",
       "22     634225\n",
       "23     402316\n",
       "6      290493\n",
       "0      218769\n",
       "1      115700\n",
       "5       87961\n",
       "2       69375\n",
       "4       53242\n",
       "3       51281\n",
       "dtype: int64"
      ]
     },
     "execution_count": 60,
     "metadata": {},
     "output_type": "execute_result"
    }
   ],
   "source": [
    "# checking busiest hours when orders are placed\n",
    "merged_df.value_counts('order_hour_of_day')"
   ]
  },
  {
   "cell_type": "markdown",
   "id": "b88e7e37",
   "metadata": {},
   "source": [
    "Most orders: 9am-4pm, Average orders: 5pm-11pm, Least orders: 12am-8am"
   ]
  },
  {
   "cell_type": "code",
   "execution_count": 61,
   "id": "ba41b817",
   "metadata": {},
   "outputs": [],
   "source": [
    "# creating a new column called busiest_period_of_day and adding values to column\n",
    "\n",
    "busiest_period = []\n",
    "\n",
    "for hour in merged_df[\"order_hour_of_day\"]:\n",
    "  if hour in [9, 10, 11, 12, 13, 14, 15, 16]:\n",
    "    busiest_period.append(\"most orders\")\n",
    "  elif hour in [17, 18, 19, 20, 21, 22, 23]:\n",
    "    busiest_period.append(\"average orders\")\n",
    "  else:\n",
    "    busiest_period.append(\"fewest orders\")\n",
    "merged_df['busiest_period_of_day'] = busiest_period"
   ]
  },
  {
   "cell_type": "code",
   "execution_count": 105,
   "id": "e38d912f",
   "metadata": {},
   "outputs": [
    {
     "data": {
      "text/plain": [
       "most orders       21118071\n",
       "average orders     7790795\n",
       "fewest orders      3495993\n",
       "Name: busiest_period_of_day, dtype: int64"
      ]
     },
     "execution_count": 105,
     "metadata": {},
     "output_type": "execute_result"
    }
   ],
   "source": [
    "merged_df['busiest_period_of_day'].value_counts(dropna = False)"
   ]
  },
  {
   "cell_type": "markdown",
   "id": "ae292f4e",
   "metadata": {},
   "source": [
    "## 3. Adding simpler price groupings"
   ]
  },
  {
   "cell_type": "markdown",
   "id": "cad924cf",
   "metadata": {},
   "source": [
    "- If the price of a product is less than or equal to 5 it will be labeled as a \"low-range product\".\n",
    "- If the price of a product is greater than 5 but less than 15 it will be labeled as a \"mid-range product\".\n",
    "- If the price of a product greater that 15 it will be labeled as a \"high-range product\"."
   ]
  },
  {
   "cell_type": "code",
   "execution_count": 63,
   "id": "e758a997",
   "metadata": {},
   "outputs": [],
   "source": [
    "# creating a new column called price_range and adding values to column\n",
    "\n",
    "price_range = []\n",
    "\n",
    "for prices in merged_df[\"prices\"]:\n",
    "  if prices <= 5:\n",
    "    price_range.append(\"low-range product\")\n",
    "  elif prices > 5 and prices <=15:\n",
    "    price_range.append(\"mid-range product\")\n",
    "  else:\n",
    "    price_range.append(\"high-range product\")\n",
    "merged_df['price_range'] = price_range"
   ]
  },
  {
   "cell_type": "code",
   "execution_count": 104,
   "id": "76802698",
   "metadata": {
    "scrolled": false
   },
   "outputs": [
    {
     "data": {
      "text/plain": [
       "mid-range product     21865987\n",
       "low-range product     10126321\n",
       "high-range product      412551\n",
       "Name: price_range, dtype: int64"
      ]
     },
     "execution_count": 104,
     "metadata": {},
     "output_type": "execute_result"
    }
   ],
   "source": [
    "merged_df['price_range'].value_counts(dropna = False)"
   ]
  },
  {
   "cell_type": "markdown",
   "id": "b52bb09a",
   "metadata": {},
   "source": [
    "# 4. Grouping users by loyalty status"
   ]
  },
  {
   "cell_type": "markdown",
   "id": "c3f1cbc4",
   "metadata": {},
   "source": [
    "- If the maximum orders the user has made is over 40, then the customer will be labeled a “loyal customer.”\n",
    "- If the maximum orders the user has made is over 10 but less than or equal to 40, then the customer will be labeled a “regular customer.”\n",
    "- If the maximum orders the user has made is less than or equal to 10, then the customer will be labeled a “new customer.”"
   ]
  },
  {
   "cell_type": "code",
   "execution_count": 65,
   "id": "fbeb4e1e",
   "metadata": {},
   "outputs": [],
   "source": [
    "# creating a column showing the maximum number of orders per customer\n",
    "merged_df['max_order'] = merged_df.groupby(['user_id'])['order_number'].transform(np.max)"
   ]
  },
  {
   "cell_type": "code",
   "execution_count": 66,
   "id": "d6521192",
   "metadata": {},
   "outputs": [],
   "source": [
    "# creating loyalty_flag column and adding 'loyal customers'\n",
    "merged_df.loc[merged_df['max_order'] > 40, 'loyalty_flag'] = 'loyal customer'"
   ]
  },
  {
   "cell_type": "code",
   "execution_count": 67,
   "id": "7e897636",
   "metadata": {},
   "outputs": [],
   "source": [
    "# adding 'regular customers' to column\n",
    "merged_df.loc[(merged_df['max_order'] <= 40) & (merged_df['max_order'] > 10), 'loyalty_flag'] = 'regular customer'"
   ]
  },
  {
   "cell_type": "code",
   "execution_count": 68,
   "id": "d069e095",
   "metadata": {},
   "outputs": [],
   "source": [
    "# adding 'new customers' to column\n",
    "merged_df.loc[merged_df['max_order'] < 40, 'loyalty_flag'] = 'new customer'"
   ]
  },
  {
   "cell_type": "code",
   "execution_count": 103,
   "id": "7d6f3258",
   "metadata": {},
   "outputs": [
    {
     "data": {
      "text/plain": [
       "new customer        21753455\n",
       "loyal customer      10284093\n",
       "regular customer      367311\n",
       "Name: loyalty_flag, dtype: int64"
      ]
     },
     "execution_count": 103,
     "metadata": {},
     "output_type": "execute_result"
    }
   ],
   "source": [
    "merged_df['loyalty_flag'].value_counts(dropna = False)"
   ]
  },
  {
   "cell_type": "markdown",
   "id": "a3eac07b",
   "metadata": {},
   "source": [
    "# 5. Grouping users by average spend "
   ]
  },
  {
   "cell_type": "markdown",
   "id": "84f7b4b9",
   "metadata": {},
   "source": [
    "- If the mean of the prices of products purchased by a user is lower than 10, they are flagged as a “low spender.”\n",
    "- If the mean of the prices of products purchased by a user is higher than or equal to 10, they are flagged as a “high spender.”"
   ]
  },
  {
   "cell_type": "code",
   "execution_count": 70,
   "id": "b61dcb5c",
   "metadata": {},
   "outputs": [],
   "source": [
    "# creating a column showing the average price of products purchased per customer\n",
    "merged_df['avg_order'] = merged_df.groupby(['user_id'])['prices'].transform(np.mean).round(2)"
   ]
  },
  {
   "cell_type": "code",
   "execution_count": 71,
   "id": "f410e82c",
   "metadata": {},
   "outputs": [],
   "source": [
    "# creating spending_flag column and adding 'high spenders'\n",
    "merged_df.loc[merged_df['avg_order'] >= 10, 'spending_flag'] = 'high spender'"
   ]
  },
  {
   "cell_type": "code",
   "execution_count": 72,
   "id": "54c63781",
   "metadata": {},
   "outputs": [],
   "source": [
    "# adding 'ligh spenders' to column\n",
    "merged_df.loc[merged_df['avg_order'] < 10, 'spending_flag'] = 'low spender'"
   ]
  },
  {
   "cell_type": "code",
   "execution_count": 102,
   "id": "e199d3f1",
   "metadata": {},
   "outputs": [
    {
     "data": {
      "text/plain": [
       "low spender     32284249\n",
       "high spender      120610\n",
       "Name: spending_flag, dtype: int64"
      ]
     },
     "execution_count": 102,
     "metadata": {},
     "output_type": "execute_result"
    }
   ],
   "source": [
    "merged_df['spending_flag'].value_counts(dropna = False)"
   ]
  },
  {
   "cell_type": "markdown",
   "id": "eec5705e",
   "metadata": {},
   "source": [
    "# 6. Grouping users by frequency of orders"
   ]
  },
  {
   "cell_type": "markdown",
   "id": "1296a5e4",
   "metadata": {},
   "source": [
    "- If the median of “days_since_prior_order” is higher than 20, then the customer will be labeled a “non-frequent customer.”\n",
    "- If the median is higher than 10 and lower than or equal to 20, then the customer will be labeled a “regular customer.”\n",
    "- If the median is lower than or equal to 10, then the customer will be labeled a “frequent customer.”"
   ]
  },
  {
   "cell_type": "code",
   "execution_count": 74,
   "id": "9ed2cd5e",
   "metadata": {},
   "outputs": [],
   "source": [
    "# adding median_days_since_prior_order column to df\n",
    "merged_df['median_days_prior_order'] = merged_df.groupby(['user_id'])['days_since_prior_order'].transform(np.median)"
   ]
  },
  {
   "cell_type": "code",
   "execution_count": 75,
   "id": "925e7aea",
   "metadata": {},
   "outputs": [],
   "source": [
    "# creating frequency_flag column and adding 'non-frequent customers'\n",
    "merged_df.loc[merged_df['median_days_prior_order'] >20, 'frequency_flag'] = 'non-frequent customer'"
   ]
  },
  {
   "cell_type": "code",
   "execution_count": 76,
   "id": "483af8d4",
   "metadata": {},
   "outputs": [],
   "source": [
    "# adding 'regular customers' to column\n",
    "merged_df.loc[(merged_df['median_days_prior_order'] >10) & (merged_df['median_days_prior_order'] <= 20), 'frequency_flag'] = 'regular customer'"
   ]
  },
  {
   "cell_type": "code",
   "execution_count": 77,
   "id": "5e3f4712",
   "metadata": {},
   "outputs": [],
   "source": [
    "# adding 'frequent customers' to column\n",
    "merged_df.loc[merged_df['median_days_prior_order'] <=10, 'frequency_flag'] = 'frequent customer'"
   ]
  },
  {
   "cell_type": "code",
   "execution_count": 109,
   "id": "4ea739fa",
   "metadata": {},
   "outputs": [
    {
     "data": {
      "text/plain": [
       "frequent customer        21559853\n",
       "regular customer          7208564\n",
       "non-frequent customer     3636437\n",
       "NaN                             5\n",
       "Name: frequency_flag, dtype: int64"
      ]
     },
     "execution_count": 109,
     "metadata": {},
     "output_type": "execute_result"
    }
   ],
   "source": [
    "merged_df['frequency_flag'].value_counts(dropna = False)"
   ]
  },
  {
   "cell_type": "code",
   "execution_count": 108,
   "id": "54f174ca",
   "metadata": {},
   "outputs": [
    {
     "data": {
      "text/html": [
       "<div>\n",
       "<style scoped>\n",
       "    .dataframe tbody tr th:only-of-type {\n",
       "        vertical-align: middle;\n",
       "    }\n",
       "\n",
       "    .dataframe tbody tr th {\n",
       "        vertical-align: top;\n",
       "    }\n",
       "\n",
       "    .dataframe thead th {\n",
       "        text-align: right;\n",
       "    }\n",
       "</style>\n",
       "<table border=\"1\" class=\"dataframe\">\n",
       "  <thead>\n",
       "    <tr style=\"text-align: right;\">\n",
       "      <th></th>\n",
       "      <th>order_id</th>\n",
       "      <th>user_id</th>\n",
       "      <th>order_number</th>\n",
       "      <th>order_dow</th>\n",
       "      <th>order_hour_of_day</th>\n",
       "      <th>days_since_prior_order</th>\n",
       "      <th>product_id</th>\n",
       "      <th>product_name</th>\n",
       "      <th>aisle_id</th>\n",
       "      <th>department_id</th>\n",
       "      <th>...</th>\n",
       "      <th>busiest_period_of_day</th>\n",
       "      <th>price_range</th>\n",
       "      <th>max_order</th>\n",
       "      <th>loyalty_flag</th>\n",
       "      <th>avg_order</th>\n",
       "      <th>spending_flag</th>\n",
       "      <th>median_days_prior_order</th>\n",
       "      <th>frequency_flag</th>\n",
       "      <th>region</th>\n",
       "      <th>age_group</th>\n",
       "    </tr>\n",
       "  </thead>\n",
       "  <tbody>\n",
       "    <tr>\n",
       "      <th>31821430</th>\n",
       "      <td>895835</td>\n",
       "      <td>159838</td>\n",
       "      <td>1</td>\n",
       "      <td>0</td>\n",
       "      <td>17</td>\n",
       "      <td>NaN</td>\n",
       "      <td>33401</td>\n",
       "      <td>Goat Cheese Crumbles</td>\n",
       "      <td>21</td>\n",
       "      <td>16</td>\n",
       "      <td>...</td>\n",
       "      <td>average orders</td>\n",
       "      <td>mid-range product</td>\n",
       "      <td>1</td>\n",
       "      <td>new customer</td>\n",
       "      <td>7.42</td>\n",
       "      <td>low spender</td>\n",
       "      <td>NaN</td>\n",
       "      <td>NaN</td>\n",
       "      <td>South</td>\n",
       "      <td>55-64</td>\n",
       "    </tr>\n",
       "    <tr>\n",
       "      <th>31821431</th>\n",
       "      <td>895835</td>\n",
       "      <td>159838</td>\n",
       "      <td>1</td>\n",
       "      <td>0</td>\n",
       "      <td>17</td>\n",
       "      <td>NaN</td>\n",
       "      <td>22198</td>\n",
       "      <td>4X Ultra Concentrated Natural Laundry Detergen...</td>\n",
       "      <td>75</td>\n",
       "      <td>17</td>\n",
       "      <td>...</td>\n",
       "      <td>average orders</td>\n",
       "      <td>low-range product</td>\n",
       "      <td>1</td>\n",
       "      <td>new customer</td>\n",
       "      <td>7.42</td>\n",
       "      <td>low spender</td>\n",
       "      <td>NaN</td>\n",
       "      <td>NaN</td>\n",
       "      <td>South</td>\n",
       "      <td>55-64</td>\n",
       "    </tr>\n",
       "    <tr>\n",
       "      <th>31821432</th>\n",
       "      <td>895835</td>\n",
       "      <td>159838</td>\n",
       "      <td>1</td>\n",
       "      <td>0</td>\n",
       "      <td>17</td>\n",
       "      <td>NaN</td>\n",
       "      <td>21334</td>\n",
       "      <td>Organic Peeled Garlic</td>\n",
       "      <td>123</td>\n",
       "      <td>4</td>\n",
       "      <td>...</td>\n",
       "      <td>average orders</td>\n",
       "      <td>mid-range product</td>\n",
       "      <td>1</td>\n",
       "      <td>new customer</td>\n",
       "      <td>7.42</td>\n",
       "      <td>low spender</td>\n",
       "      <td>NaN</td>\n",
       "      <td>NaN</td>\n",
       "      <td>South</td>\n",
       "      <td>55-64</td>\n",
       "    </tr>\n",
       "    <tr>\n",
       "      <th>31821433</th>\n",
       "      <td>895835</td>\n",
       "      <td>159838</td>\n",
       "      <td>1</td>\n",
       "      <td>0</td>\n",
       "      <td>17</td>\n",
       "      <td>NaN</td>\n",
       "      <td>10749</td>\n",
       "      <td>Organic Red Bell Pepper</td>\n",
       "      <td>83</td>\n",
       "      <td>4</td>\n",
       "      <td>...</td>\n",
       "      <td>average orders</td>\n",
       "      <td>mid-range product</td>\n",
       "      <td>1</td>\n",
       "      <td>new customer</td>\n",
       "      <td>7.42</td>\n",
       "      <td>low spender</td>\n",
       "      <td>NaN</td>\n",
       "      <td>NaN</td>\n",
       "      <td>South</td>\n",
       "      <td>55-64</td>\n",
       "    </tr>\n",
       "    <tr>\n",
       "      <th>31821434</th>\n",
       "      <td>895835</td>\n",
       "      <td>159838</td>\n",
       "      <td>1</td>\n",
       "      <td>0</td>\n",
       "      <td>17</td>\n",
       "      <td>NaN</td>\n",
       "      <td>23695</td>\n",
       "      <td>California Veggie Burger</td>\n",
       "      <td>42</td>\n",
       "      <td>1</td>\n",
       "      <td>...</td>\n",
       "      <td>average orders</td>\n",
       "      <td>low-range product</td>\n",
       "      <td>1</td>\n",
       "      <td>new customer</td>\n",
       "      <td>7.42</td>\n",
       "      <td>low spender</td>\n",
       "      <td>NaN</td>\n",
       "      <td>NaN</td>\n",
       "      <td>South</td>\n",
       "      <td>55-64</td>\n",
       "    </tr>\n",
       "  </tbody>\n",
       "</table>\n",
       "<p>5 rows × 31 columns</p>\n",
       "</div>"
      ],
      "text/plain": [
       "          order_id  user_id  order_number  order_dow  order_hour_of_day  \\\n",
       "31821430    895835   159838             1          0                 17   \n",
       "31821431    895835   159838             1          0                 17   \n",
       "31821432    895835   159838             1          0                 17   \n",
       "31821433    895835   159838             1          0                 17   \n",
       "31821434    895835   159838             1          0                 17   \n",
       "\n",
       "          days_since_prior_order  product_id  \\\n",
       "31821430                     NaN       33401   \n",
       "31821431                     NaN       22198   \n",
       "31821432                     NaN       21334   \n",
       "31821433                     NaN       10749   \n",
       "31821434                     NaN       23695   \n",
       "\n",
       "                                               product_name  aisle_id  \\\n",
       "31821430                               Goat Cheese Crumbles        21   \n",
       "31821431  4X Ultra Concentrated Natural Laundry Detergen...        75   \n",
       "31821432                              Organic Peeled Garlic       123   \n",
       "31821433                            Organic Red Bell Pepper        83   \n",
       "31821434                           California Veggie Burger        42   \n",
       "\n",
       "          department_id  ...  busiest_period_of_day        price_range  \\\n",
       "31821430             16  ...         average orders  mid-range product   \n",
       "31821431             17  ...         average orders  low-range product   \n",
       "31821432              4  ...         average orders  mid-range product   \n",
       "31821433              4  ...         average orders  mid-range product   \n",
       "31821434              1  ...         average orders  low-range product   \n",
       "\n",
       "         max_order  loyalty_flag avg_order  spending_flag  \\\n",
       "31821430         1  new customer      7.42    low spender   \n",
       "31821431         1  new customer      7.42    low spender   \n",
       "31821432         1  new customer      7.42    low spender   \n",
       "31821433         1  new customer      7.42    low spender   \n",
       "31821434         1  new customer      7.42    low spender   \n",
       "\n",
       "         median_days_prior_order  frequency_flag region  age_group  \n",
       "31821430                     NaN             NaN  South      55-64  \n",
       "31821431                     NaN             NaN  South      55-64  \n",
       "31821432                     NaN             NaN  South      55-64  \n",
       "31821433                     NaN             NaN  South      55-64  \n",
       "31821434                     NaN             NaN  South      55-64  \n",
       "\n",
       "[5 rows x 31 columns]"
      ]
     },
     "execution_count": 108,
     "metadata": {},
     "output_type": "execute_result"
    }
   ],
   "source": [
    "# investigating NaN values identified above\n",
    "nan_values = merged_df[merged_df['median_days_prior_order'].isna()]\n",
    "nan_values"
   ]
  },
  {
   "cell_type": "code",
   "execution_count": 147,
   "id": "fb0e9ad7",
   "metadata": {
    "scrolled": true
   },
   "outputs": [],
   "source": [
    "# the NaN values above are as a result of the customer only having placed 1 order.\n",
    "# these customers don't contribute significantly to revenue or this analysis and will thus be removed.\n",
    "merged_df.dropna(subset=['frequency_flag'], inplace=True)"
   ]
  },
  {
   "cell_type": "code",
   "execution_count": 148,
   "id": "654978d3",
   "metadata": {},
   "outputs": [
    {
     "data": {
      "text/plain": [
       "frequent customer        21559853\n",
       "regular customer          7208564\n",
       "non-frequent customer     3636437\n",
       "Name: frequency_flag, dtype: int64"
      ]
     },
     "execution_count": 148,
     "metadata": {},
     "output_type": "execute_result"
    }
   ],
   "source": [
    "merged_df['frequency_flag'].value_counts(dropna = False)"
   ]
  },
  {
   "cell_type": "markdown",
   "id": "917784bf",
   "metadata": {},
   "source": [
    "# 7. Segmenting users based on region"
   ]
  },
  {
   "cell_type": "code",
   "execution_count": 113,
   "id": "b047ac4b",
   "metadata": {},
   "outputs": [],
   "source": [
    "# creating regional classifiers in df based on regional divisions used by the United States Census Bureau\n",
    "merged_df.loc[merged_df['state'].isin(['Wisconsin',\n",
    "                         'Michigan',\n",
    "                         'Illinois',\n",
    "                         'Indiana',\n",
    "                         'Ohio',\n",
    "                         'North Dakota',\n",
    "                         'South Dakota',\n",
    "                         'Nebraska',\n",
    "                         'Kansas',\n",
    "                         'Minnesota',\n",
    "                         'Iowa',\n",
    "                         'Missouri']), 'region'] = 'Midwest'"
   ]
  },
  {
   "cell_type": "code",
   "execution_count": 114,
   "id": "96f4197e",
   "metadata": {},
   "outputs": [],
   "source": [
    "merged_df.loc[merged_df['state'].isin(['Maine', \n",
    "                         'New Hampshire', \n",
    "                         'Vermont',\n",
    "                         'Massachusetts',\n",
    "                         'Rhode Island',\n",
    "                         'Connecticut',\n",
    "                         'New York',\n",
    "                         'Pennsylvania',\n",
    "                         'New Jersey']), 'region'] = 'Northeast'"
   ]
  },
  {
   "cell_type": "code",
   "execution_count": 115,
   "id": "fcca9467",
   "metadata": {},
   "outputs": [],
   "source": [
    "merged_df.loc[merged_df['state'].isin(['Delaware', \n",
    "                         'Maryland', \n",
    "                         'District of Columbia',\n",
    "                         'Virginia',\n",
    "                         'West Virginia',\n",
    "                         'North Carolina',\n",
    "                         'South Carolina',\n",
    "                         'Georgia',\n",
    "                         'Florida',\n",
    "                         'Kentucky',\n",
    "                         'Tennessee',\n",
    "                         'Mississippi',\n",
    "                         'Alabama',\n",
    "                         'Oklahoma',\n",
    "                         'Texas',\n",
    "                         'Arkansas',\n",
    "                         'Louisiana']), 'region'] = 'South'"
   ]
  },
  {
   "cell_type": "code",
   "execution_count": 116,
   "id": "fd6c1678",
   "metadata": {},
   "outputs": [],
   "source": [
    "merged_df.loc[merged_df['state'].isin(['Idaho', \n",
    "                         'Montana', \n",
    "                         'Wyoming',\n",
    "                         'Nevada',\n",
    "                         'Utah',\n",
    "                         'Colorado',\n",
    "                         'Arizona',\n",
    "                         'New Mexico',\n",
    "                         'Alaska',\n",
    "                         'Washington',\n",
    "                         'Oregon',\n",
    "                         'California',\n",
    "                         'Hawaii']), 'region'] = 'West'"
   ]
  },
  {
   "cell_type": "code",
   "execution_count": 117,
   "id": "70815290",
   "metadata": {},
   "outputs": [
    {
     "data": {
      "text/plain": [
       "South        10791880\n",
       "West          8292913\n",
       "Midwest       7597325\n",
       "Northeast     5722736\n",
       "Name: region, dtype: int64"
      ]
     },
     "execution_count": 117,
     "metadata": {},
     "output_type": "execute_result"
    }
   ],
   "source": [
    "merged_df['region'].value_counts(dropna = False)"
   ]
  },
  {
   "cell_type": "markdown",
   "id": "8cb2f8f4",
   "metadata": {},
   "source": [
    "# 8. Segmenting customers based on age"
   ]
  },
  {
   "cell_type": "code",
   "execution_count": 118,
   "id": "aa1c00e4",
   "metadata": {},
   "outputs": [],
   "source": [
    "# creating age groups for segmentation, we will use the same segments that are available for Google Ads: \n",
    "# '18–24', '25–34', '35–44', '45–54', '55–64', '65+'"
   ]
  },
  {
   "cell_type": "code",
   "execution_count": 119,
   "id": "3f60f49e",
   "metadata": {},
   "outputs": [],
   "source": [
    "merged_df.loc[(merged_df['age'] >= 18) & (merged_df['age'] <=24), \n",
    "'age_group'] = '18-24' "
   ]
  },
  {
   "cell_type": "code",
   "execution_count": 120,
   "id": "d19414a5",
   "metadata": {},
   "outputs": [],
   "source": [
    "merged_df.loc[(merged_df['age'] >= 25) & (merged_df['age'] <=34), \n",
    "'age_group'] = '25-34'"
   ]
  },
  {
   "cell_type": "code",
   "execution_count": 121,
   "id": "0dcc21cd",
   "metadata": {},
   "outputs": [],
   "source": [
    "merged_df.loc[(merged_df['age'] >= 35) & (merged_df['age'] <=44), \n",
    "'age_group'] = '35-44'"
   ]
  },
  {
   "cell_type": "code",
   "execution_count": 122,
   "id": "e37a47a5",
   "metadata": {},
   "outputs": [],
   "source": [
    "merged_df.loc[(merged_df['age'] >= 45) & (merged_df['age'] <=54), \n",
    "'age_group'] = '45-54'"
   ]
  },
  {
   "cell_type": "code",
   "execution_count": 123,
   "id": "d4767e51",
   "metadata": {},
   "outputs": [],
   "source": [
    "merged_df.loc[(merged_df['age'] >= 55) & (merged_df['age'] <=64), \n",
    "'age_group'] = '55-64'"
   ]
  },
  {
   "cell_type": "code",
   "execution_count": 124,
   "id": "818c8c47",
   "metadata": {},
   "outputs": [],
   "source": [
    "merged_df.loc[merged_df['age'] >= 65, 'age_group'] = '65+'"
   ]
  },
  {
   "cell_type": "code",
   "execution_count": 125,
   "id": "cd688ac1",
   "metadata": {},
   "outputs": [
    {
     "data": {
      "text/plain": [
       "65+      8575084\n",
       "45-54    5111126\n",
       "35-44    5062429\n",
       "25-34    5054654\n",
       "55-64    5028560\n",
       "18-24    3573001\n",
       "Name: age_group, dtype: int64"
      ]
     },
     "execution_count": 125,
     "metadata": {},
     "output_type": "execute_result"
    }
   ],
   "source": [
    "merged_df['age_group'].value_counts(dropna = False)"
   ]
  },
  {
   "cell_type": "markdown",
   "id": "09b32c88",
   "metadata": {},
   "source": [
    "# 8. Segmenting customers based on income"
   ]
  },
  {
   "cell_type": "code",
   "execution_count": 126,
   "id": "ad774bbd",
   "metadata": {},
   "outputs": [],
   "source": [
    "# creating income tiers for segmentation, we will use the same segments that are defined by the Pew Research Center\n",
    "# $48,500 - $145,500 = Middle-income\n",
    "# $145,500+ = Upper-income\n",
    "# <$48,500 = Lower_income"
   ]
  },
  {
   "cell_type": "code",
   "execution_count": 127,
   "id": "3e142728",
   "metadata": {},
   "outputs": [],
   "source": [
    "merged_df.loc[(merged_df['income'] >= 48500) & (merged_df['income'] <=145500), \n",
    "'income_tier'] = 'Middle_income' "
   ]
  },
  {
   "cell_type": "code",
   "execution_count": 128,
   "id": "1556c006",
   "metadata": {},
   "outputs": [],
   "source": [
    "merged_df.loc[merged_df['income'] >145500, 'income_tier'] = 'Upper-income'"
   ]
  },
  {
   "cell_type": "code",
   "execution_count": 129,
   "id": "304558c5",
   "metadata": {},
   "outputs": [],
   "source": [
    "merged_df.loc[merged_df['income'] <48500, 'income_tier'] = 'Lower-income'"
   ]
  },
  {
   "cell_type": "code",
   "execution_count": 131,
   "id": "512fa338",
   "metadata": {},
   "outputs": [
    {
     "data": {
      "text/plain": [
       "Middle_income    24158818\n",
       "Upper-income      4881048\n",
       "Lower-income      3364988\n",
       "Name: income_tier, dtype: int64"
      ]
     },
     "execution_count": 131,
     "metadata": {},
     "output_type": "execute_result"
    }
   ],
   "source": [
    "merged_df['income_tier'].value_counts(dropna = False)"
   ]
  },
  {
   "cell_type": "markdown",
   "id": "85e224e4",
   "metadata": {},
   "source": [
    "# 9. Segmenting customers based on family status"
   ]
  },
  {
   "cell_type": "code",
   "execution_count": 132,
   "id": "0ec90900",
   "metadata": {},
   "outputs": [],
   "source": [
    "# creating family_profile for segmentation\n",
    "#'Married, no children', 'Married, children', 'Single, children', 'Single, no children'"
   ]
  },
  {
   "cell_type": "code",
   "execution_count": 139,
   "id": "3f9cf47f",
   "metadata": {},
   "outputs": [],
   "source": [
    "merged_df.loc[(merged_df['fam_status'] == 'married') & (merged_df['n_dependants'] == 1), 'family_profile'] = 'Married, no children'"
   ]
  },
  {
   "cell_type": "code",
   "execution_count": 141,
   "id": "ca252e6c",
   "metadata": {},
   "outputs": [],
   "source": [
    "merged_df.loc[(merged_df['fam_status'] == 'married') & (merged_df['n_dependants'] >= 2), 'family_profile'] = 'Married, children'"
   ]
  },
  {
   "cell_type": "code",
   "execution_count": 143,
   "id": "70988833",
   "metadata": {},
   "outputs": [],
   "source": [
    "merged_df.loc[(merged_df['fam_status'] != 'married') & (merged_df['n_dependants'] == 0), 'family_profile'] = 'Single, no children'"
   ]
  },
  {
   "cell_type": "code",
   "execution_count": 145,
   "id": "9e0a251d",
   "metadata": {},
   "outputs": [],
   "source": [
    "merged_df.loc[(merged_df['fam_status'] != 'married') & (merged_df['n_dependants'] >= 1), 'family_profile'] = 'Single, children'"
   ]
  },
  {
   "cell_type": "code",
   "execution_count": 146,
   "id": "25a23fb4",
   "metadata": {},
   "outputs": [
    {
     "data": {
      "text/plain": [
       "Married, children       15205844\n",
       "Single, no children      8097503\n",
       "Married, no children     7550904\n",
       "Single, children         1550603\n",
       "Name: family_profile, dtype: int64"
      ]
     },
     "execution_count": 146,
     "metadata": {},
     "output_type": "execute_result"
    }
   ],
   "source": [
    "merged_df['family_profile'].value_counts(dropna = False)"
   ]
  },
  {
   "cell_type": "markdown",
   "id": "d3fb29cd",
   "metadata": {},
   "source": [
    "# 10. Exporting dataset"
   ]
  },
  {
   "cell_type": "code",
   "execution_count": 151,
   "id": "d60cb2a4",
   "metadata": {},
   "outputs": [],
   "source": [
    "merged_df.to_pickle('/Volumes/external_drive/Instacart/Data/Prepared Data/final_df.pkl')"
   ]
  }
 ],
 "metadata": {
  "kernelspec": {
   "display_name": "Python 3 (ipykernel)",
   "language": "python",
   "name": "python3"
  },
  "language_info": {
   "codemirror_mode": {
    "name": "ipython",
    "version": 3
   },
   "file_extension": ".py",
   "mimetype": "text/x-python",
   "name": "python",
   "nbconvert_exporter": "python",
   "pygments_lexer": "ipython3",
   "version": "3.10.9"
  }
 },
 "nbformat": 4,
 "nbformat_minor": 5
}
