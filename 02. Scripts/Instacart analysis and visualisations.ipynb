{
 "cells": [
  {
   "cell_type": "markdown",
   "id": "2721e489",
   "metadata": {},
   "source": [
    "# Instacart Customer Analysis"
   ]
  },
  {
   "cell_type": "markdown",
   "id": "d902985f",
   "metadata": {},
   "source": [
    "# 0. Data Preparation"
   ]
  },
  {
   "cell_type": "code",
   "execution_count": 45,
   "id": "98973e29",
   "metadata": {},
   "outputs": [],
   "source": [
    "# importing libraries\n",
    "import pandas as pd\n",
    "import numpy as np\n",
    "import matplotlib.pyplot as plt\n",
    "import matplotlib.ticker as mticker\n",
    "import plotly.express as px\n",
    "import seaborn as sns\n",
    "from pandas.plotting import table"
   ]
  },
  {
   "cell_type": "code",
   "execution_count": 22,
   "id": "43eb5214",
   "metadata": {},
   "outputs": [],
   "source": [
    "# setting view options \n",
    "pd.set_option('display.max_columns', None)\n",
    "pd.set_option('display.max_rows', None)"
   ]
  },
  {
   "cell_type": "code",
   "execution_count": 23,
   "id": "ed7cb65f",
   "metadata": {},
   "outputs": [],
   "source": [
    "# importing dataset\n",
    "insta_df = pd.read_pickle('/Volumes/external_drive/Instacart/Data/Prepared Data/final_df.pkl')"
   ]
  },
  {
   "cell_type": "code",
   "execution_count": 24,
   "id": "4b919e41",
   "metadata": {
    "scrolled": true
   },
   "outputs": [
    {
     "data": {
      "text/html": [
       "<div>\n",
       "<style scoped>\n",
       "    .dataframe tbody tr th:only-of-type {\n",
       "        vertical-align: middle;\n",
       "    }\n",
       "\n",
       "    .dataframe tbody tr th {\n",
       "        vertical-align: top;\n",
       "    }\n",
       "\n",
       "    .dataframe thead th {\n",
       "        text-align: right;\n",
       "    }\n",
       "</style>\n",
       "<table border=\"1\" class=\"dataframe\">\n",
       "  <thead>\n",
       "    <tr style=\"text-align: right;\">\n",
       "      <th></th>\n",
       "      <th>order_id</th>\n",
       "      <th>user_id</th>\n",
       "      <th>order_number</th>\n",
       "      <th>order_dow</th>\n",
       "      <th>order_hour_of_day</th>\n",
       "      <th>days_since_prior_order</th>\n",
       "      <th>product_id</th>\n",
       "      <th>product_name</th>\n",
       "      <th>aisle_id</th>\n",
       "      <th>department_id</th>\n",
       "      <th>prices</th>\n",
       "      <th>department</th>\n",
       "      <th>aisle</th>\n",
       "      <th>gender</th>\n",
       "      <th>state</th>\n",
       "      <th>age</th>\n",
       "      <th>date_joined</th>\n",
       "      <th>n_dependants</th>\n",
       "      <th>fam_status</th>\n",
       "      <th>income</th>\n",
       "      <th>busiest_days</th>\n",
       "      <th>busiest_period_of_day</th>\n",
       "      <th>price_range</th>\n",
       "      <th>max_order</th>\n",
       "      <th>loyalty_flag</th>\n",
       "      <th>avg_order</th>\n",
       "      <th>spending_flag</th>\n",
       "      <th>median_days_prior_order</th>\n",
       "      <th>frequency_flag</th>\n",
       "      <th>region</th>\n",
       "      <th>age_group</th>\n",
       "      <th>income_tier</th>\n",
       "      <th>family_profile</th>\n",
       "      <th>meat_seafood_flag</th>\n",
       "    </tr>\n",
       "  </thead>\n",
       "  <tbody>\n",
       "    <tr>\n",
       "      <th>0</th>\n",
       "      <td>2539329</td>\n",
       "      <td>1</td>\n",
       "      <td>1</td>\n",
       "      <td>2</td>\n",
       "      <td>8</td>\n",
       "      <td>NaN</td>\n",
       "      <td>196</td>\n",
       "      <td>Soda</td>\n",
       "      <td>77</td>\n",
       "      <td>7</td>\n",
       "      <td>9.0</td>\n",
       "      <td>beverages</td>\n",
       "      <td>soft drinks</td>\n",
       "      <td>Female</td>\n",
       "      <td>Alabama</td>\n",
       "      <td>31</td>\n",
       "      <td>2/17/2019</td>\n",
       "      <td>3</td>\n",
       "      <td>married</td>\n",
       "      <td>40423</td>\n",
       "      <td>regular day</td>\n",
       "      <td>fewest orders</td>\n",
       "      <td>mid-range product</td>\n",
       "      <td>10</td>\n",
       "      <td>NaN</td>\n",
       "      <td>6.37</td>\n",
       "      <td>low spender</td>\n",
       "      <td>20.5</td>\n",
       "      <td>non-frequent customer</td>\n",
       "      <td>south</td>\n",
       "      <td>25-34</td>\n",
       "      <td>lower-income</td>\n",
       "      <td>married, children</td>\n",
       "      <td>non-meat/seafood buyer</td>\n",
       "    </tr>\n",
       "    <tr>\n",
       "      <th>1</th>\n",
       "      <td>2398795</td>\n",
       "      <td>1</td>\n",
       "      <td>2</td>\n",
       "      <td>3</td>\n",
       "      <td>7</td>\n",
       "      <td>15.0</td>\n",
       "      <td>196</td>\n",
       "      <td>Soda</td>\n",
       "      <td>77</td>\n",
       "      <td>7</td>\n",
       "      <td>9.0</td>\n",
       "      <td>beverages</td>\n",
       "      <td>soft drinks</td>\n",
       "      <td>Female</td>\n",
       "      <td>Alabama</td>\n",
       "      <td>31</td>\n",
       "      <td>2/17/2019</td>\n",
       "      <td>3</td>\n",
       "      <td>married</td>\n",
       "      <td>40423</td>\n",
       "      <td>slowest days</td>\n",
       "      <td>fewest orders</td>\n",
       "      <td>mid-range product</td>\n",
       "      <td>10</td>\n",
       "      <td>NaN</td>\n",
       "      <td>6.37</td>\n",
       "      <td>low spender</td>\n",
       "      <td>20.5</td>\n",
       "      <td>non-frequent customer</td>\n",
       "      <td>south</td>\n",
       "      <td>25-34</td>\n",
       "      <td>lower-income</td>\n",
       "      <td>married, children</td>\n",
       "      <td>non-meat/seafood buyer</td>\n",
       "    </tr>\n",
       "    <tr>\n",
       "      <th>2</th>\n",
       "      <td>473747</td>\n",
       "      <td>1</td>\n",
       "      <td>3</td>\n",
       "      <td>3</td>\n",
       "      <td>12</td>\n",
       "      <td>21.0</td>\n",
       "      <td>196</td>\n",
       "      <td>Soda</td>\n",
       "      <td>77</td>\n",
       "      <td>7</td>\n",
       "      <td>9.0</td>\n",
       "      <td>beverages</td>\n",
       "      <td>soft drinks</td>\n",
       "      <td>Female</td>\n",
       "      <td>Alabama</td>\n",
       "      <td>31</td>\n",
       "      <td>2/17/2019</td>\n",
       "      <td>3</td>\n",
       "      <td>married</td>\n",
       "      <td>40423</td>\n",
       "      <td>slowest days</td>\n",
       "      <td>most orders</td>\n",
       "      <td>mid-range product</td>\n",
       "      <td>10</td>\n",
       "      <td>NaN</td>\n",
       "      <td>6.37</td>\n",
       "      <td>low spender</td>\n",
       "      <td>20.5</td>\n",
       "      <td>non-frequent customer</td>\n",
       "      <td>south</td>\n",
       "      <td>25-34</td>\n",
       "      <td>lower-income</td>\n",
       "      <td>married, children</td>\n",
       "      <td>non-meat/seafood buyer</td>\n",
       "    </tr>\n",
       "    <tr>\n",
       "      <th>3</th>\n",
       "      <td>2254736</td>\n",
       "      <td>1</td>\n",
       "      <td>4</td>\n",
       "      <td>4</td>\n",
       "      <td>7</td>\n",
       "      <td>29.0</td>\n",
       "      <td>196</td>\n",
       "      <td>Soda</td>\n",
       "      <td>77</td>\n",
       "      <td>7</td>\n",
       "      <td>9.0</td>\n",
       "      <td>beverages</td>\n",
       "      <td>soft drinks</td>\n",
       "      <td>Female</td>\n",
       "      <td>Alabama</td>\n",
       "      <td>31</td>\n",
       "      <td>2/17/2019</td>\n",
       "      <td>3</td>\n",
       "      <td>married</td>\n",
       "      <td>40423</td>\n",
       "      <td>slowest days</td>\n",
       "      <td>fewest orders</td>\n",
       "      <td>mid-range product</td>\n",
       "      <td>10</td>\n",
       "      <td>NaN</td>\n",
       "      <td>6.37</td>\n",
       "      <td>low spender</td>\n",
       "      <td>20.5</td>\n",
       "      <td>non-frequent customer</td>\n",
       "      <td>south</td>\n",
       "      <td>25-34</td>\n",
       "      <td>lower-income</td>\n",
       "      <td>married, children</td>\n",
       "      <td>non-meat/seafood buyer</td>\n",
       "    </tr>\n",
       "    <tr>\n",
       "      <th>4</th>\n",
       "      <td>431534</td>\n",
       "      <td>1</td>\n",
       "      <td>5</td>\n",
       "      <td>4</td>\n",
       "      <td>15</td>\n",
       "      <td>28.0</td>\n",
       "      <td>196</td>\n",
       "      <td>Soda</td>\n",
       "      <td>77</td>\n",
       "      <td>7</td>\n",
       "      <td>9.0</td>\n",
       "      <td>beverages</td>\n",
       "      <td>soft drinks</td>\n",
       "      <td>Female</td>\n",
       "      <td>Alabama</td>\n",
       "      <td>31</td>\n",
       "      <td>2/17/2019</td>\n",
       "      <td>3</td>\n",
       "      <td>married</td>\n",
       "      <td>40423</td>\n",
       "      <td>slowest days</td>\n",
       "      <td>most orders</td>\n",
       "      <td>mid-range product</td>\n",
       "      <td>10</td>\n",
       "      <td>NaN</td>\n",
       "      <td>6.37</td>\n",
       "      <td>low spender</td>\n",
       "      <td>20.5</td>\n",
       "      <td>non-frequent customer</td>\n",
       "      <td>south</td>\n",
       "      <td>25-34</td>\n",
       "      <td>lower-income</td>\n",
       "      <td>married, children</td>\n",
       "      <td>non-meat/seafood buyer</td>\n",
       "    </tr>\n",
       "  </tbody>\n",
       "</table>\n",
       "</div>"
      ],
      "text/plain": [
       "   order_id  user_id  order_number  order_dow  order_hour_of_day  \\\n",
       "0   2539329        1             1          2                  8   \n",
       "1   2398795        1             2          3                  7   \n",
       "2    473747        1             3          3                 12   \n",
       "3   2254736        1             4          4                  7   \n",
       "4    431534        1             5          4                 15   \n",
       "\n",
       "   days_since_prior_order  product_id product_name  aisle_id  department_id  \\\n",
       "0                     NaN         196         Soda        77              7   \n",
       "1                    15.0         196         Soda        77              7   \n",
       "2                    21.0         196         Soda        77              7   \n",
       "3                    29.0         196         Soda        77              7   \n",
       "4                    28.0         196         Soda        77              7   \n",
       "\n",
       "   prices department        aisle  gender    state  age date_joined  \\\n",
       "0     9.0  beverages  soft drinks  Female  Alabama   31   2/17/2019   \n",
       "1     9.0  beverages  soft drinks  Female  Alabama   31   2/17/2019   \n",
       "2     9.0  beverages  soft drinks  Female  Alabama   31   2/17/2019   \n",
       "3     9.0  beverages  soft drinks  Female  Alabama   31   2/17/2019   \n",
       "4     9.0  beverages  soft drinks  Female  Alabama   31   2/17/2019   \n",
       "\n",
       "   n_dependants fam_status  income  busiest_days busiest_period_of_day  \\\n",
       "0             3    married   40423   regular day         fewest orders   \n",
       "1             3    married   40423  slowest days         fewest orders   \n",
       "2             3    married   40423  slowest days           most orders   \n",
       "3             3    married   40423  slowest days         fewest orders   \n",
       "4             3    married   40423  slowest days           most orders   \n",
       "\n",
       "         price_range  max_order loyalty_flag  avg_order spending_flag  \\\n",
       "0  mid-range product         10          NaN       6.37   low spender   \n",
       "1  mid-range product         10          NaN       6.37   low spender   \n",
       "2  mid-range product         10          NaN       6.37   low spender   \n",
       "3  mid-range product         10          NaN       6.37   low spender   \n",
       "4  mid-range product         10          NaN       6.37   low spender   \n",
       "\n",
       "   median_days_prior_order         frequency_flag region age_group  \\\n",
       "0                     20.5  non-frequent customer  south     25-34   \n",
       "1                     20.5  non-frequent customer  south     25-34   \n",
       "2                     20.5  non-frequent customer  south     25-34   \n",
       "3                     20.5  non-frequent customer  south     25-34   \n",
       "4                     20.5  non-frequent customer  south     25-34   \n",
       "\n",
       "    income_tier     family_profile       meat_seafood_flag  \n",
       "0  lower-income  married, children  non-meat/seafood buyer  \n",
       "1  lower-income  married, children  non-meat/seafood buyer  \n",
       "2  lower-income  married, children  non-meat/seafood buyer  \n",
       "3  lower-income  married, children  non-meat/seafood buyer  \n",
       "4  lower-income  married, children  non-meat/seafood buyer  "
      ]
     },
     "execution_count": 24,
     "metadata": {},
     "output_type": "execute_result"
    }
   ],
   "source": [
    "insta_df.head()"
   ]
  },
  {
   "cell_type": "code",
   "execution_count": 25,
   "id": "a62be472",
   "metadata": {},
   "outputs": [],
   "source": [
    "# grouping order_id's together to get a better insight into order numbers and total order value\n",
    "grouped_df = insta_df.groupby('order_id').agg({\n",
    "    'user_id': 'first',\n",
    "    'region': 'first',\n",
    "    'age_group': 'first',\n",
    "    'income_tier': 'first',\n",
    "    'family_profile': 'first',\n",
    "    'frequency_flag': 'first',\n",
    "    'loyalty_flag': 'first',\n",
    "    'order_dow': 'first',\n",
    "    'order_hour_of_day': 'first',\n",
    "    'state': 'first',\n",
    "    'prices': 'sum'\n",
    "}).reset_index()"
   ]
  },
  {
   "cell_type": "code",
   "execution_count": 26,
   "id": "4195ca1c",
   "metadata": {},
   "outputs": [
    {
     "data": {
      "text/html": [
       "<div>\n",
       "<style scoped>\n",
       "    .dataframe tbody tr th:only-of-type {\n",
       "        vertical-align: middle;\n",
       "    }\n",
       "\n",
       "    .dataframe tbody tr th {\n",
       "        vertical-align: top;\n",
       "    }\n",
       "\n",
       "    .dataframe thead th {\n",
       "        text-align: right;\n",
       "    }\n",
       "</style>\n",
       "<table border=\"1\" class=\"dataframe\">\n",
       "  <thead>\n",
       "    <tr style=\"text-align: right;\">\n",
       "      <th></th>\n",
       "      <th>order_id</th>\n",
       "      <th>user_id</th>\n",
       "      <th>region</th>\n",
       "      <th>age_group</th>\n",
       "      <th>income_tier</th>\n",
       "      <th>family_profile</th>\n",
       "      <th>frequency_flag</th>\n",
       "      <th>loyalty_flag</th>\n",
       "      <th>order_dow</th>\n",
       "      <th>order_hour_of_day</th>\n",
       "      <th>state</th>\n",
       "      <th>prices</th>\n",
       "    </tr>\n",
       "  </thead>\n",
       "  <tbody>\n",
       "    <tr>\n",
       "      <th>0</th>\n",
       "      <td>2</td>\n",
       "      <td>202279</td>\n",
       "      <td>west</td>\n",
       "      <td>55-64</td>\n",
       "      <td>middle-income</td>\n",
       "      <td>married, children</td>\n",
       "      <td>non-frequent customer</td>\n",
       "      <td>new customer</td>\n",
       "      <td>5</td>\n",
       "      <td>9</td>\n",
       "      <td>Idaho</td>\n",
       "      <td>91.6</td>\n",
       "    </tr>\n",
       "    <tr>\n",
       "      <th>1</th>\n",
       "      <td>3</td>\n",
       "      <td>205970</td>\n",
       "      <td>west</td>\n",
       "      <td>35-44</td>\n",
       "      <td>upper-income</td>\n",
       "      <td>married, children</td>\n",
       "      <td>frequent customer</td>\n",
       "      <td>regular customer</td>\n",
       "      <td>5</td>\n",
       "      <td>17</td>\n",
       "      <td>Oregon</td>\n",
       "      <td>70.3</td>\n",
       "    </tr>\n",
       "    <tr>\n",
       "      <th>2</th>\n",
       "      <td>4</td>\n",
       "      <td>178520</td>\n",
       "      <td>northeast</td>\n",
       "      <td>65+</td>\n",
       "      <td>middle-income</td>\n",
       "      <td>married, children</td>\n",
       "      <td>frequent customer</td>\n",
       "      <td>loyal customer</td>\n",
       "      <td>1</td>\n",
       "      <td>9</td>\n",
       "      <td>Maine</td>\n",
       "      <td>92.8</td>\n",
       "    </tr>\n",
       "    <tr>\n",
       "      <th>3</th>\n",
       "      <td>5</td>\n",
       "      <td>156122</td>\n",
       "      <td>south</td>\n",
       "      <td>35-44</td>\n",
       "      <td>middle-income</td>\n",
       "      <td>married, children</td>\n",
       "      <td>frequent customer</td>\n",
       "      <td>loyal customer</td>\n",
       "      <td>6</td>\n",
       "      <td>16</td>\n",
       "      <td>Georgia</td>\n",
       "      <td>210.7</td>\n",
       "    </tr>\n",
       "    <tr>\n",
       "      <th>4</th>\n",
       "      <td>6</td>\n",
       "      <td>22352</td>\n",
       "      <td>midwest</td>\n",
       "      <td>25-34</td>\n",
       "      <td>middle-income</td>\n",
       "      <td>married, children</td>\n",
       "      <td>non-frequent customer</td>\n",
       "      <td>new customer</td>\n",
       "      <td>1</td>\n",
       "      <td>12</td>\n",
       "      <td>Illinois</td>\n",
       "      <td>27.5</td>\n",
       "    </tr>\n",
       "  </tbody>\n",
       "</table>\n",
       "</div>"
      ],
      "text/plain": [
       "   order_id  user_id     region age_group    income_tier     family_profile  \\\n",
       "0         2   202279       west     55-64  middle-income  married, children   \n",
       "1         3   205970       west     35-44   upper-income  married, children   \n",
       "2         4   178520  northeast       65+  middle-income  married, children   \n",
       "3         5   156122      south     35-44  middle-income  married, children   \n",
       "4         6    22352    midwest     25-34  middle-income  married, children   \n",
       "\n",
       "          frequency_flag      loyalty_flag  order_dow  order_hour_of_day  \\\n",
       "0  non-frequent customer      new customer          5                  9   \n",
       "1      frequent customer  regular customer          5                 17   \n",
       "2      frequent customer    loyal customer          1                  9   \n",
       "3      frequent customer    loyal customer          6                 16   \n",
       "4  non-frequent customer      new customer          1                 12   \n",
       "\n",
       "      state  prices  \n",
       "0     Idaho    91.6  \n",
       "1    Oregon    70.3  \n",
       "2     Maine    92.8  \n",
       "3   Georgia   210.7  \n",
       "4  Illinois    27.5  "
      ]
     },
     "execution_count": 26,
     "metadata": {},
     "output_type": "execute_result"
    }
   ],
   "source": [
    "grouped_df.head()"
   ]
  },
  {
   "cell_type": "markdown",
   "id": "9fc191ec",
   "metadata": {},
   "source": [
    "# 1. Overview"
   ]
  },
  {
   "cell_type": "markdown",
   "id": "a95af404",
   "metadata": {},
   "source": [
    "### A. Age Group Overview"
   ]
  },
  {
   "cell_type": "code",
   "execution_count": 29,
   "id": "1fe96667",
   "metadata": {
    "scrolled": false
   },
   "outputs": [
    {
     "name": "stdout",
     "output_type": "stream",
     "text": [
      "65+      854313\n",
      "45-54    508269\n",
      "35-44    501299\n",
      "55-64    499084\n",
      "25-34    498878\n",
      "18-24    352841\n",
      "Name: age_group, dtype: int64\n"
     ]
    },
    {
     "data": {
      "image/png": "[encoded data removed]",
      "text/plain": [
       "<Figure size 640x480 with 1 Axes>"
      ]
     },
     "metadata": {},
     "output_type": "display_data"
    }
   ],
   "source": [
    "# creating a distribution of orders by age group\n",
    "age_group_bar = grouped_df['age_group'].value_counts() / 1e6\n",
    "plt.bar(age_group_bar.index, age_group_bar.values, align='center')\n",
    "formatter = mticker.FuncFormatter(lambda x, pos: f'{x:.1f}M')\n",
    "plt.gca().yaxis.set_major_formatter(formatter)\n",
    "plt.xlabel('Age Group')\n",
    "plt.ylabel('Number of Orders (Millions)')\n",
    "plt.title('Distribution of Orders by Age Group')\n",
    "plt.savefig('/Volumes/external_drive/Instacart/Analysis/age_distribution.png', dpi=300)\n",
    "print(grouped_df['age_group'].value_counts())\n",
    "plt.show()"
   ]
  },
  {
   "cell_type": "markdown",
   "id": "cf537faf",
   "metadata": {},
   "source": [
    "Customers 65+ years old account for 27% of orders and is the largest age group by order count, customers aged 18-24 account for the least amount of orders at just 11%."
   ]
  },
  {
   "cell_type": "markdown",
   "id": "ba88ef76",
   "metadata": {},
   "source": [
    "### B. Income Tier Overview"
   ]
  },
  {
   "cell_type": "code",
   "execution_count": 8,
   "id": "afe2609c",
   "metadata": {},
   "outputs": [
    {
     "data": {
      "image/png": "[encoded data removed]",
      "text/plain": [
       "<Figure size 640x480 with 1 Axes>"
      ]
     },
     "metadata": {},
     "output_type": "display_data"
    }
   ],
   "source": [
    "# creating a distribution of orders by income tier\n",
    "income_pie = grouped_df['income_tier'].value_counts()\n",
    "plt.pie(income_pie.values, labels=income_pie.index, autopct='%1.1f%%')\n",
    "plt.title('Distribution of Orders by Income Tier')\n",
    "plt.axis('equal')\n",
    "plt.savefig('/Volumes/external_drive/Instacart/Analysis/income_distribution.png', dpi=300)\n",
    "plt.show()"
   ]
  },
  {
   "cell_type": "markdown",
   "id": "5fe91d17",
   "metadata": {},
   "source": [
    "Middle-income customers overwhelmingly account for the majority of orders with 72%."
   ]
  },
  {
   "cell_type": "markdown",
   "id": "bdedf4b1",
   "metadata": {},
   "source": [
    "### C. Family Profile Overview"
   ]
  },
  {
   "cell_type": "code",
   "execution_count": 9,
   "id": "3536729c",
   "metadata": {},
   "outputs": [
    {
     "data": {
      "image/png": "[encoded data removed]",
      "text/plain": [
       "<Figure size 640x480 with 1 Axes>"
      ]
     },
     "metadata": {},
     "output_type": "display_data"
    }
   ],
   "source": [
    "# creating a distribution of orders by family profile\n",
    "family_pie = grouped_df['family_profile'].value_counts()\n",
    "plt.pie(family_pie.values, labels=family_pie.index, autopct='%1.1f%%')\n",
    "plt.title('Distribution of Orders by Family Profile', pad=20) \n",
    "plt.axis('equal') \n",
    "plt.savefig('/Volumes/external_drive/Instacart/Analysis/family_distribution.png', dpi=300)\n",
    "plt.show()"
   ]
  },
  {
   "cell_type": "markdown",
   "id": "fc827942",
   "metadata": {},
   "source": [
    "Married customers with children account for 47% of orders, customers without children (married or single) account for similar percentage and make up the 48% of orders. Single customers with children account for just 4.7% of orders."
   ]
  },
  {
   "cell_type": "markdown",
   "id": "058369b1",
   "metadata": {},
   "source": [
    "### D. Region Overview"
   ]
  },
  {
   "cell_type": "code",
   "execution_count": 30,
   "id": "2629d696",
   "metadata": {},
   "outputs": [
    {
     "name": "stdout",
     "output_type": "stream",
     "text": [
      "south        1071561\n",
      "west          821686\n",
      "midwest       754275\n",
      "northeast     567162\n",
      "Name: region, dtype: int64\n"
     ]
    },
    {
     "data": {
      "image/png": "[encoded data removed]",
      "text/plain": [
       "<Figure size 640x480 with 1 Axes>"
      ]
     },
     "metadata": {},
     "output_type": "display_data"
    }
   ],
   "source": [
    "# creating a distribution of orders by region\n",
    "region_bar = grouped_df['region'].value_counts() / 1e6\n",
    "plt.bar(region_bar.index, region_bar.values, align='center')\n",
    "formatter = mticker.FuncFormatter(lambda x, pos: f'{x:.1f}M')\n",
    "plt.gca().yaxis.set_major_formatter(formatter)\n",
    "plt.xlabel('Region')\n",
    "plt.ylabel('Number of Orders (Millions)')\n",
    "plt.title('Distribution of Orders by Region')\n",
    "plt.savefig('/Volumes/external_drive/Instacart/Analysis/region_distribution.png', dpi=300)\n",
    "print(grouped_df['region'].value_counts())\n",
    "plt.show()"
   ]
  },
  {
   "cell_type": "markdown",
   "id": "ec3893b2",
   "metadata": {},
   "source": [
    "The South accounts for the majority of orders with 33% of orders, the Northeast accounts for the least with just 17% of orders."
   ]
  },
  {
   "cell_type": "markdown",
   "id": "e2600e67",
   "metadata": {},
   "source": [
    "### E. Department Overview"
   ]
  },
  {
   "cell_type": "code",
   "execution_count": 11,
   "id": "c2780d26",
   "metadata": {},
   "outputs": [
    {
     "data": {
      "image/png": "[encoded data removed]",
      "text/plain": [
       "<Figure size 640x480 with 1 Axes>"
      ]
     },
     "metadata": {},
     "output_type": "display_data"
    }
   ],
   "source": [
    "# creating a distribution of orders by department\n",
    "dep_bar = insta_df['department'].value_counts() / 1e6\n",
    "dep_bar = dep_bar.sort_values(ascending=True) \n",
    "fig, ax = plt.subplots()\n",
    "ax.barh(dep_bar.index, dep_bar.values, align='center')\n",
    "ax.set_xlabel('Number of Orders (Millions)')\n",
    "ax.set_ylabel('Department')\n",
    "ax.set_title('Distribution of Orders by Department')\n",
    "formatter = mticker.FuncFormatter(lambda x, pos: f'{x:.1f}M')\n",
    "ax.xaxis.set_major_formatter(formatter)\n",
    "plt.tight_layout()\n",
    "plt.savefig('/Volumes/external_drive/Instacart/Analysis/dep_distribution.png', dpi=300)\n",
    "plt.show()"
   ]
  },
  {
   "cell_type": "markdown",
   "id": "4ae7cedb",
   "metadata": {},
   "source": [
    "Produce accounts for the majaority of departement orders, this likely due to produce consisting largely of perishable goods that need to be purchased frequently."
   ]
  },
  {
   "cell_type": "markdown",
   "id": "cf8941da",
   "metadata": {},
   "source": [
    "### F. Aisle Overview"
   ]
  },
  {
   "cell_type": "code",
   "execution_count": 12,
   "id": "2c031f87",
   "metadata": {
    "scrolled": false
   },
   "outputs": [
    {
     "data": {
      "image/png": "[encoded data removed]",
      "text/plain": [
       "<Figure size 640x480 with 1 Axes>"
      ]
     },
     "metadata": {},
     "output_type": "display_data"
    }
   ],
   "source": [
    "# creating a distribution of orders by aisle (only showing the Top 20)\n",
    "aisle_bar = insta_df['aisle'].value_counts() / 1e6\n",
    "aisle_bar = aisle_bar.sort_values(ascending=True)\n",
    "top_n = 20\n",
    "top_aisles = aisle_bar.tail(top_n)\n",
    "fig, ax = plt.subplots()\n",
    "ax.barh(top_aisles.index, top_aisles.values, align='center')\n",
    "ax.set_xlabel('Number of Orders (Millions)')\n",
    "ax.set_ylabel('Aisle')\n",
    "ax.set_title(f'Distribution of Orders by Aisle (Top {top_n})')\n",
    "formatter = mticker.FuncFormatter(lambda x, pos: f'{x:.1f}M')\n",
    "ax.xaxis.set_major_formatter(formatter)\n",
    "plt.tight_layout()\n",
    "plt.savefig('/Volumes/external_drive/Instacart/Analysis/aisle_distribution.png', dpi=300)\n",
    "plt.show()"
   ]
  },
  {
   "cell_type": "markdown",
   "id": "ec00fb02",
   "metadata": {},
   "source": [
    "Fruits and vegetables account for the majority of orders, with dairy products also accounting for a large portion."
   ]
  },
  {
   "cell_type": "markdown",
   "id": "17fd4513",
   "metadata": {},
   "source": [
    "### G. Loyalty Overview"
   ]
  },
  {
   "cell_type": "code",
   "execution_count": 31,
   "id": "3f571fc0",
   "metadata": {
    "scrolled": false
   },
   "outputs": [
    {
     "data": {
      "image/png": "[encoded data removed]",
      "text/plain": [
       "<Figure size 640x480 with 1 Axes>"
      ]
     },
     "metadata": {},
     "output_type": "display_data"
    }
   ],
   "source": [
    "# creating a distribution of orders by family profile\n",
    "loyalty_pie = grouped_df['loyalty_flag'].value_counts()\n",
    "plt.pie(loyalty_pie.values, labels=loyalty_pie.index, autopct='%1.1f%%')\n",
    "plt.title('Distribution of Orders by Customer Loyalty', pad=20) \n",
    "plt.axis('equal') \n",
    "plt.savefig('/Volumes/external_drive/Instacart/Analysis/loyalty_distribution.png', dpi=300)\n",
    "plt.show()"
   ]
  },
  {
   "cell_type": "markdown",
   "id": "b9169cf9",
   "metadata": {},
   "source": [
    "Regular customers acount for the majority of orders with 50%, loyal customers account for 33% and new customers just 18%."
   ]
  },
  {
   "cell_type": "markdown",
   "id": "7fc2e001",
   "metadata": {},
   "source": [
    "### H. State Overview"
   ]
  },
  {
   "cell_type": "code",
   "execution_count": 34,
   "id": "af9bf9a3",
   "metadata": {},
   "outputs": [
    {
     "name": "stdout",
     "output_type": "stream",
     "text": [
      "                   index  state\n",
      "0           Pennsylvania  65170\n",
      "1             New Mexico  65001\n",
      "2                Alabama  64615\n",
      "3             California  64562\n",
      "4                Georgia  64489\n",
      "5         North Carolina  64202\n",
      "6               Oklahoma  64130\n",
      "7              Minnesota  64091\n",
      "8               Colorado  64065\n",
      "9               Missouri  63940\n",
      "10                 Maine  63880\n",
      "11                 Texas  63848\n",
      "12               Wyoming  63699\n",
      "13            Washington  63671\n",
      "14                Alaska  63638\n",
      "15               Arizona  63633\n",
      "16               Florida  63613\n",
      "17         Massachusetts  63566\n",
      "18                Kansas  63510\n",
      "19               Montana  63443\n",
      "20              Delaware  63261\n",
      "21          South Dakota  63249\n",
      "22          Rhode Island  63075\n",
      "23              Virginia  63039\n",
      "24             Wisconsin  62916\n",
      "25                Oregon  62892\n",
      "26                Hawaii  62887\n",
      "27           Connecticut  62885\n",
      "28          North Dakota  62764\n",
      "29              Kentucky  62618\n",
      "30              Arkansas  62617\n",
      "31        South Carolina  62590\n",
      "32  District of Columbia  62581\n",
      "33              Michigan  62577\n",
      "34              Maryland  62481\n",
      "35              Nebraska  62457\n",
      "36                Nevada  62448\n",
      "37               Indiana  62444\n",
      "38               Vermont  62425\n",
      "39              New York  62408\n",
      "40             Louisiana  62322\n",
      "41                  Ohio  62221\n",
      "42            New Jersey  62125\n",
      "43              Illinois  62067\n",
      "44                  Iowa  62039\n",
      "45             Tennessee  62034\n",
      "46           Mississippi  61878\n",
      "47         New Hampshire  61628\n",
      "48                  Utah  61538\n",
      "49         West Virginia  61243\n",
      "50                 Idaho  60209\n"
     ]
    },
    {
     "data": {
      "application/vnd.plotly.v1+json": {
       "config": {
        "plotlyServerURL": "https://plot.ly"
       },
       "data": [
        {
         "coloraxis": "coloraxis",
         "geo": "geo",
         "hovertemplate": "state_abbr=%{location}<br>Order Count=%{z}<extra></extra>",
         "locationmode": "USA-states",
         "locations": [
          "PA",
          "NM",
          "AL",
          "CA",
          "GA",
          "NC",
          "OK",
          "MN",
          "CO",
          "MO",
          "ME",
          "TX",
          "WY",
          "WA",
          "AK",
          "AZ",
          "FL",
          "MA",
          "KS",
          "MT",
          "DE",
          "SD",
          "RI",
          "VA",
          "WI",
          "OR",
          "HI",
          "CT",
          "ND",
          "KY",
          "AR",
          "SC",
          "MI",
          "MD",
          "NE",
          "NV",
          "IN",
          "VT",
          "NY",
          "LA",
          "OH",
          "NJ",
          "IL",
          "IA",
          "TN",
          "MS",
          "NH",
          "UT",
          "WV",
          "ID"
         ],
         "name": "",
         "type": "choropleth",
         "z": [
          65170,
          65001,
          64615,
          64562,
          64489,
          64202,
          64130,
          64091,
          64065,
          63940,
          63880,
          63848,
          63699,
          63671,
          63638,
          63633,
          63613,
          63566,
          63510,
          63443,
          63261,
          63249,
          63075,
          63039,
          62916,
          62892,
          62887,
          62885,
          62764,
          62618,
          62617,
          62590,
          62577,
          62481,
          62457,
          62448,
          62444,
          62425,
          62408,
          62322,
          62221,
          62125,
          62067,
          62039,
          62034,
          61878,
          61628,
          61538,
          61243,
          60209
         ]
        }
       ],
       "layout": {
        "coloraxis": {
         "colorbar": {
          "title": {
           "text": "Order Count"
          }
         },
         "colorscale": [
          [
           0,
           "#0d0887"
          ],
          [
           0.1111111111111111,
           "#46039f"
          ],
          [
           0.2222222222222222,
           "#7201a8"
          ],
          [
           0.3333333333333333,
           "#9c179e"
          ],
          [
           0.4444444444444444,
           "#bd3786"
          ],
          [
           0.5555555555555556,
           "#d8576b"
          ],
          [
           0.6666666666666666,
           "#ed7953"
          ],
          [
           0.7777777777777778,
           "#fb9f3a"
          ],
          [
           0.8888888888888888,
           "#fdca26"
          ],
          [
           1,
           "#f0f921"
          ]
         ]
        },
        "geo": {
         "center": {},
         "domain": {
          "x": [
           0,
           1
          ],
          "y": [
           0,
           1
          ]
         },
         "scope": "usa"
        },
        "legend": {
         "tracegroupgap": 0
        },
        "template": {
         "data": {
          "bar": [
           {
            "error_x": {
             "color": "#2a3f5f"
            },
            "error_y": {
             "color": "#2a3f5f"
            },
            "marker": {
             "line": {
              "color": "#E5ECF6",
              "width": 0.5
             },
             "pattern": {
              "fillmode": "overlay",
              "size": 10,
              "solidity": 0.2
             }
            },
            "type": "bar"
           }
          ],
          "barpolar": [
           {
            "marker": {
             "line": {
              "color": "#E5ECF6",
              "width": 0.5
             },
             "pattern": {
              "fillmode": "overlay",
              "size": 10,
              "solidity": 0.2
             }
            },
            "type": "barpolar"
           }
          ],
          "carpet": [
           {
            "aaxis": {
             "endlinecolor": "#2a3f5f",
             "gridcolor": "white",
             "linecolor": "white",
             "minorgridcolor": "white",
             "startlinecolor": "#2a3f5f"
            },
            "baxis": {
             "endlinecolor": "#2a3f5f",
             "gridcolor": "white",
             "linecolor": "white",
             "minorgridcolor": "white",
             "startlinecolor": "#2a3f5f"
            },
            "type": "carpet"
           }
          ],
          "choropleth": [
           {
            "colorbar": {
             "outlinewidth": 0,
             "ticks": ""
            },
            "type": "choropleth"
           }
          ],
          "contour": [
           {
            "colorbar": {
             "outlinewidth": 0,
             "ticks": ""
            },
            "colorscale": [
             [
              0,
              "#0d0887"
             ],
             [
              0.1111111111111111,
              "#46039f"
             ],
             [
              0.2222222222222222,
              "#7201a8"
             ],
             [
              0.3333333333333333,
              "#9c179e"
             ],
             [
              0.4444444444444444,
              "#bd3786"
             ],
             [
              0.5555555555555556,
              "#d8576b"
             ],
             [
              0.6666666666666666,
              "#ed7953"
             ],
             [
              0.7777777777777778,
              "#fb9f3a"
             ],
             [
              0.8888888888888888,
              "#fdca26"
             ],
             [
              1,
              "#f0f921"
             ]
            ],
            "type": "contour"
           }
          ],
          "contourcarpet": [
           {
            "colorbar": {
             "outlinewidth": 0,
             "ticks": ""
            },
            "type": "contourcarpet"
           }
          ],
          "heatmap": [
           {
            "colorbar": {
             "outlinewidth": 0,
             "ticks": ""
            },
            "colorscale": [
             [
              0,
              "#0d0887"
             ],
             [
              0.1111111111111111,
              "#46039f"
             ],
             [
              0.2222222222222222,
              "#7201a8"
             ],
             [
              0.3333333333333333,
              "#9c179e"
             ],
             [
              0.4444444444444444,
              "#bd3786"
             ],
             [
              0.5555555555555556,
              "#d8576b"
             ],
             [
              0.6666666666666666,
              "#ed7953"
             ],
             [
              0.7777777777777778,
              "#fb9f3a"
             ],
             [
              0.8888888888888888,
              "#fdca26"
             ],
             [
              1,
              "#f0f921"
             ]
            ],
            "type": "heatmap"
           }
          ],
          "heatmapgl": [
           {
            "colorbar": {
             "outlinewidth": 0,
             "ticks": ""
            },
            "colorscale": [
             [
              0,
              "#0d0887"
             ],
             [
              0.1111111111111111,
              "#46039f"
             ],
             [
              0.2222222222222222,
              "#7201a8"
             ],
             [
              0.3333333333333333,
              "#9c179e"
             ],
             [
              0.4444444444444444,
              "#bd3786"
             ],
             [
              0.5555555555555556,
              "#d8576b"
             ],
             [
              0.6666666666666666,
              "#ed7953"
             ],
             [
              0.7777777777777778,
              "#fb9f3a"
             ],
             [
              0.8888888888888888,
              "#fdca26"
             ],
             [
              1,
              "#f0f921"
             ]
            ],
            "type": "heatmapgl"
           }
          ],
          "histogram": [
           {
            "marker": {
             "pattern": {
              "fillmode": "overlay",
              "size": 10,
              "solidity": 0.2
             }
            },
            "type": "histogram"
           }
          ],
          "histogram2d": [
           {
            "colorbar": {
             "outlinewidth": 0,
             "ticks": ""
            },
            "colorscale": [
             [
              0,
              "#0d0887"
             ],
             [
              0.1111111111111111,
              "#46039f"
             ],
             [
              0.2222222222222222,
              "#7201a8"
             ],
             [
              0.3333333333333333,
              "#9c179e"
             ],
             [
              0.4444444444444444,
              "#bd3786"
             ],
             [
              0.5555555555555556,
              "#d8576b"
             ],
             [
              0.6666666666666666,
              "#ed7953"
             ],
             [
              0.7777777777777778,
              "#fb9f3a"
             ],
             [
              0.8888888888888888,
              "#fdca26"
             ],
             [
              1,
              "#f0f921"
             ]
            ],
            "type": "histogram2d"
           }
          ],
          "histogram2dcontour": [
           {
            "colorbar": {
             "outlinewidth": 0,
             "ticks": ""
            },
            "colorscale": [
             [
              0,
              "#0d0887"
             ],
             [
              0.1111111111111111,
              "#46039f"
             ],
             [
              0.2222222222222222,
              "#7201a8"
             ],
             [
              0.3333333333333333,
              "#9c179e"
             ],
             [
              0.4444444444444444,
              "#bd3786"
             ],
             [
              0.5555555555555556,
              "#d8576b"
             ],
             [
              0.6666666666666666,
              "#ed7953"
             ],
             [
              0.7777777777777778,
              "#fb9f3a"
             ],
             [
              0.8888888888888888,
              "#fdca26"
             ],
             [
              1,
              "#f0f921"
             ]
            ],
            "type": "histogram2dcontour"
           }
          ],
          "mesh3d": [
           {
            "colorbar": {
             "outlinewidth": 0,
             "ticks": ""
            },
            "type": "mesh3d"
           }
          ],
          "parcoords": [
           {
            "line": {
             "colorbar": {
              "outlinewidth": 0,
              "ticks": ""
             }
            },
            "type": "parcoords"
           }
          ],
          "pie": [
           {
            "automargin": true,
            "type": "pie"
           }
          ],
          "scatter": [
           {
            "fillpattern": {
             "fillmode": "overlay",
             "size": 10,
             "solidity": 0.2
            },
            "type": "scatter"
           }
          ],
          "scatter3d": [
           {
            "line": {
             "colorbar": {
              "outlinewidth": 0,
              "ticks": ""
             }
            },
            "marker": {
             "colorbar": {
              "outlinewidth": 0,
              "ticks": ""
             }
            },
            "type": "scatter3d"
           }
          ],
          "scattercarpet": [
           {
            "marker": {
             "colorbar": {
              "outlinewidth": 0,
              "ticks": ""
             }
            },
            "type": "scattercarpet"
           }
          ],
          "scattergeo": [
           {
            "marker": {
             "colorbar": {
              "outlinewidth": 0,
              "ticks": ""
             }
            },
            "type": "scattergeo"
           }
          ],
          "scattergl": [
           {
            "marker": {
             "colorbar": {
              "outlinewidth": 0,
              "ticks": ""
             }
            },
            "type": "scattergl"
           }
          ],
          "scattermapbox": [
           {
            "marker": {
             "colorbar": {
              "outlinewidth": 0,
              "ticks": ""
             }
            },
            "type": "scattermapbox"
           }
          ],
          "scatterpolar": [
           {
            "marker": {
             "colorbar": {
              "outlinewidth": 0,
              "ticks": ""
             }
            },
            "type": "scatterpolar"
           }
          ],
          "scatterpolargl": [
           {
            "marker": {
             "colorbar": {
              "outlinewidth": 0,
              "ticks": ""
             }
            },
            "type": "scatterpolargl"
           }
          ],
          "scatterternary": [
           {
            "marker": {
             "colorbar": {
              "outlinewidth": 0,
              "ticks": ""
             }
            },
            "type": "scatterternary"
           }
          ],
          "surface": [
           {
            "colorbar": {
             "outlinewidth": 0,
             "ticks": ""
            },
            "colorscale": [
             [
              0,
              "#0d0887"
             ],
             [
              0.1111111111111111,
              "#46039f"
             ],
             [
              0.2222222222222222,
              "#7201a8"
             ],
             [
              0.3333333333333333,
              "#9c179e"
             ],
             [
              0.4444444444444444,
              "#bd3786"
             ],
             [
              0.5555555555555556,
              "#d8576b"
             ],
             [
              0.6666666666666666,
              "#ed7953"
             ],
             [
              0.7777777777777778,
              "#fb9f3a"
             ],
             [
              0.8888888888888888,
              "#fdca26"
             ],
             [
              1,
              "#f0f921"
             ]
            ],
            "type": "surface"
           }
          ],
          "table": [
           {
            "cells": {
             "fill": {
              "color": "#EBF0F8"
             },
             "line": {
              "color": "white"
             }
            },
            "header": {
             "fill": {
              "color": "#C8D4E3"
             },
             "line": {
              "color": "white"
             }
            },
            "type": "table"
           }
          ]
         },
         "layout": {
          "annotationdefaults": {
           "arrowcolor": "#2a3f5f",
           "arrowhead": 0,
           "arrowwidth": 1
          },
          "autotypenumbers": "strict",
          "coloraxis": {
           "colorbar": {
            "outlinewidth": 0,
            "ticks": ""
           }
          },
          "colorscale": {
           "diverging": [
            [
             0,
             "#8e0152"
            ],
            [
             0.1,
             "#c51b7d"
            ],
            [
             0.2,
             "#de77ae"
            ],
            [
             0.3,
             "#f1b6da"
            ],
            [
             0.4,
             "#fde0ef"
            ],
            [
             0.5,
             "#f7f7f7"
            ],
            [
             0.6,
             "#e6f5d0"
            ],
            [
             0.7,
             "#b8e186"
            ],
            [
             0.8,
             "#7fbc41"
            ],
            [
             0.9,
             "#4d9221"
            ],
            [
             1,
             "#276419"
            ]
           ],
           "sequential": [
            [
             0,
             "#0d0887"
            ],
            [
             0.1111111111111111,
             "#46039f"
            ],
            [
             0.2222222222222222,
             "#7201a8"
            ],
            [
             0.3333333333333333,
             "#9c179e"
            ],
            [
             0.4444444444444444,
             "#bd3786"
            ],
            [
             0.5555555555555556,
             "#d8576b"
            ],
            [
             0.6666666666666666,
             "#ed7953"
            ],
            [
             0.7777777777777778,
             "#fb9f3a"
            ],
            [
             0.8888888888888888,
             "#fdca26"
            ],
            [
             1,
             "#f0f921"
            ]
           ],
           "sequentialminus": [
            [
             0,
             "#0d0887"
            ],
            [
             0.1111111111111111,
             "#46039f"
            ],
            [
             0.2222222222222222,
             "#7201a8"
            ],
            [
             0.3333333333333333,
             "#9c179e"
            ],
            [
             0.4444444444444444,
             "#bd3786"
            ],
            [
             0.5555555555555556,
             "#d8576b"
            ],
            [
             0.6666666666666666,
             "#ed7953"
            ],
            [
             0.7777777777777778,
             "#fb9f3a"
            ],
            [
             0.8888888888888888,
             "#fdca26"
            ],
            [
             1,
             "#f0f921"
            ]
           ]
          },
          "colorway": [
           "#636efa",
           "#EF553B",
           "#00cc96",
           "#ab63fa",
           "#FFA15A",
           "#19d3f3",
           "#FF6692",
           "#B6E880",
           "#FF97FF",
           "#FECB52"
          ],
          "font": {
           "color": "#2a3f5f"
          },
          "geo": {
           "bgcolor": "white",
           "lakecolor": "white",
           "landcolor": "#E5ECF6",
           "showlakes": true,
           "showland": true,
           "subunitcolor": "white"
          },
          "hoverlabel": {
           "align": "left"
          },
          "hovermode": "closest",
          "mapbox": {
           "style": "light"
          },
          "paper_bgcolor": "white",
          "plot_bgcolor": "#E5ECF6",
          "polar": {
           "angularaxis": {
            "gridcolor": "white",
            "linecolor": "white",
            "ticks": ""
           },
           "bgcolor": "#E5ECF6",
           "radialaxis": {
            "gridcolor": "white",
            "linecolor": "white",
            "ticks": ""
           }
          },
          "scene": {
           "xaxis": {
            "backgroundcolor": "#E5ECF6",
            "gridcolor": "white",
            "gridwidth": 2,
            "linecolor": "white",
            "showbackground": true,
            "ticks": "",
            "zerolinecolor": "white"
           },
           "yaxis": {
            "backgroundcolor": "#E5ECF6",
            "gridcolor": "white",
            "gridwidth": 2,
            "linecolor": "white",
            "showbackground": true,
            "ticks": "",
            "zerolinecolor": "white"
           },
           "zaxis": {
            "backgroundcolor": "#E5ECF6",
            "gridcolor": "white",
            "gridwidth": 2,
            "linecolor": "white",
            "showbackground": true,
            "ticks": "",
            "zerolinecolor": "white"
           }
          },
          "shapedefaults": {
           "line": {
            "color": "#2a3f5f"
           }
          },
          "ternary": {
           "aaxis": {
            "gridcolor": "white",
            "linecolor": "white",
            "ticks": ""
           },
           "baxis": {
            "gridcolor": "white",
            "linecolor": "white",
            "ticks": ""
           },
           "bgcolor": "#E5ECF6",
           "caxis": {
            "gridcolor": "white",
            "linecolor": "white",
            "ticks": ""
           }
          },
          "title": {
           "x": 0.05
          },
          "xaxis": {
           "automargin": true,
           "gridcolor": "white",
           "linecolor": "white",
           "ticks": "",
           "title": {
            "standoff": 15
           },
           "zerolinecolor": "white",
           "zerolinewidth": 2
          },
          "yaxis": {
           "automargin": true,
           "gridcolor": "white",
           "linecolor": "white",
           "ticks": "",
           "title": {
            "standoff": 15
           },
           "zerolinecolor": "white",
           "zerolinewidth": 2
          }
         }
        },
        "title": {
         "text": "Order Count by State"
        }
       }
      },
      "text/html": [
       "<div>                            <div id=\"d484c5ee-0375-4ca3-b091-5c3cdf7c6964\" class=\"plotly-graph-div\" style=\"height:525px; width:100%;\"></div>            <script type=\"text/javascript\">                require([\"plotly\"], function(Plotly) {                    window.PLOTLYENV=window.PLOTLYENV || {};                                    if (document.getElementById(\"d484c5ee-0375-4ca3-b091-5c3cdf7c6964\")) {                    Plotly.newPlot(                        \"d484c5ee-0375-4ca3-b091-5c3cdf7c6964\",                        [{\"coloraxis\":\"coloraxis\",\"geo\":\"geo\",\"hovertemplate\":\"state_abbr=%{location}<br>Order Count=%{z}<extra></extra>\",\"locationmode\":\"USA-states\",\"locations\":[\"PA\",\"NM\",\"AL\",\"CA\",\"GA\",\"NC\",\"OK\",\"MN\",\"CO\",\"MO\",\"ME\",\"TX\",\"WY\",\"WA\",\"AK\",\"AZ\",\"FL\",\"MA\",\"KS\",\"MT\",\"DE\",\"SD\",\"RI\",\"VA\",\"WI\",\"OR\",\"HI\",\"CT\",\"ND\",\"KY\",\"AR\",\"SC\",\"MI\",\"MD\",\"NE\",\"NV\",\"IN\",\"VT\",\"NY\",\"LA\",\"OH\",\"NJ\",\"IL\",\"IA\",\"TN\",\"MS\",\"NH\",\"UT\",\"WV\",\"ID\"],\"name\":\"\",\"z\":[65170,65001,64615,64562,64489,64202,64130,64091,64065,63940,63880,63848,63699,63671,63638,63633,63613,63566,63510,63443,63261,63249,63075,63039,62916,62892,62887,62885,62764,62618,62617,62590,62577,62481,62457,62448,62444,62425,62408,62322,62221,62125,62067,62039,62034,61878,61628,61538,61243,60209],\"type\":\"choropleth\"}],                        {\"template\":{\"data\":{\"histogram2dcontour\":[{\"type\":\"histogram2dcontour\",\"colorbar\":{\"outlinewidth\":0,\"ticks\":\"\"},\"colorscale\":[[0.0,\"#0d0887\"],[0.1111111111111111,\"#46039f\"],[0.2222222222222222,\"#7201a8\"],[0.3333333333333333,\"#9c179e\"],[0.4444444444444444,\"#bd3786\"],[0.5555555555555556,\"#d8576b\"],[0.6666666666666666,\"#ed7953\"],[0.7777777777777778,\"#fb9f3a\"],[0.8888888888888888,\"#fdca26\"],[1.0,\"#f0f921\"]]}],\"choropleth\":[{\"type\":\"choropleth\",\"colorbar\":{\"outlinewidth\":0,\"ticks\":\"\"}}],\"histogram2d\":[{\"type\":\"histogram2d\",\"colorbar\":{\"outlinewidth\":0,\"ticks\":\"\"},\"colorscale\":[[0.0,\"#0d0887\"],[0.1111111111111111,\"#46039f\"],[0.2222222222222222,\"#7201a8\"],[0.3333333333333333,\"#9c179e\"],[0.4444444444444444,\"#bd3786\"],[0.5555555555555556,\"#d8576b\"],[0.6666666666666666,\"#ed7953\"],[0.7777777777777778,\"#fb9f3a\"],[0.8888888888888888,\"#fdca26\"],[1.0,\"#f0f921\"]]}],\"heatmap\":[{\"type\":\"heatmap\",\"colorbar\":{\"outlinewidth\":0,\"ticks\":\"\"},\"colorscale\":[[0.0,\"#0d0887\"],[0.1111111111111111,\"#46039f\"],[0.2222222222222222,\"#7201a8\"],[0.3333333333333333,\"#9c179e\"],[0.4444444444444444,\"#bd3786\"],[0.5555555555555556,\"#d8576b\"],[0.6666666666666666,\"#ed7953\"],[0.7777777777777778,\"#fb9f3a\"],[0.8888888888888888,\"#fdca26\"],[1.0,\"#f0f921\"]]}],\"heatmapgl\":[{\"type\":\"heatmapgl\",\"colorbar\":{\"outlinewidth\":0,\"ticks\":\"\"},\"colorscale\":[[0.0,\"#0d0887\"],[0.1111111111111111,\"#46039f\"],[0.2222222222222222,\"#7201a8\"],[0.3333333333333333,\"#9c179e\"],[0.4444444444444444,\"#bd3786\"],[0.5555555555555556,\"#d8576b\"],[0.6666666666666666,\"#ed7953\"],[0.7777777777777778,\"#fb9f3a\"],[0.8888888888888888,\"#fdca26\"],[1.0,\"#f0f921\"]]}],\"contourcarpet\":[{\"type\":\"contourcarpet\",\"colorbar\":{\"outlinewidth\":0,\"ticks\":\"\"}}],\"contour\":[{\"type\":\"contour\",\"colorbar\":{\"outlinewidth\":0,\"ticks\":\"\"},\"colorscale\":[[0.0,\"#0d0887\"],[0.1111111111111111,\"#46039f\"],[0.2222222222222222,\"#7201a8\"],[0.3333333333333333,\"#9c179e\"],[0.4444444444444444,\"#bd3786\"],[0.5555555555555556,\"#d8576b\"],[0.6666666666666666,\"#ed7953\"],[0.7777777777777778,\"#fb9f3a\"],[0.8888888888888888,\"#fdca26\"],[1.0,\"#f0f921\"]]}],\"surface\":[{\"type\":\"surface\",\"colorbar\":{\"outlinewidth\":0,\"ticks\":\"\"},\"colorscale\":[[0.0,\"#0d0887\"],[0.1111111111111111,\"#46039f\"],[0.2222222222222222,\"#7201a8\"],[0.3333333333333333,\"#9c179e\"],[0.4444444444444444,\"#bd3786\"],[0.5555555555555556,\"#d8576b\"],[0.6666666666666666,\"#ed7953\"],[0.7777777777777778,\"#fb9f3a\"],[0.8888888888888888,\"#fdca26\"],[1.0,\"#f0f921\"]]}],\"mesh3d\":[{\"type\":\"mesh3d\",\"colorbar\":{\"outlinewidth\":0,\"ticks\":\"\"}}],\"scatter\":[{\"fillpattern\":{\"fillmode\":\"overlay\",\"size\":10,\"solidity\":0.2},\"type\":\"scatter\"}],\"parcoords\":[{\"type\":\"parcoords\",\"line\":{\"colorbar\":{\"outlinewidth\":0,\"ticks\":\"\"}}}],\"scatterpolargl\":[{\"type\":\"scatterpolargl\",\"marker\":{\"colorbar\":{\"outlinewidth\":0,\"ticks\":\"\"}}}],\"bar\":[{\"error_x\":{\"color\":\"#2a3f5f\"},\"error_y\":{\"color\":\"#2a3f5f\"},\"marker\":{\"line\":{\"color\":\"#E5ECF6\",\"width\":0.5},\"pattern\":{\"fillmode\":\"overlay\",\"size\":10,\"solidity\":0.2}},\"type\":\"bar\"}],\"scattergeo\":[{\"type\":\"scattergeo\",\"marker\":{\"colorbar\":{\"outlinewidth\":0,\"ticks\":\"\"}}}],\"scatterpolar\":[{\"type\":\"scatterpolar\",\"marker\":{\"colorbar\":{\"outlinewidth\":0,\"ticks\":\"\"}}}],\"histogram\":[{\"marker\":{\"pattern\":{\"fillmode\":\"overlay\",\"size\":10,\"solidity\":0.2}},\"type\":\"histogram\"}],\"scattergl\":[{\"type\":\"scattergl\",\"marker\":{\"colorbar\":{\"outlinewidth\":0,\"ticks\":\"\"}}}],\"scatter3d\":[{\"type\":\"scatter3d\",\"line\":{\"colorbar\":{\"outlinewidth\":0,\"ticks\":\"\"}},\"marker\":{\"colorbar\":{\"outlinewidth\":0,\"ticks\":\"\"}}}],\"scattermapbox\":[{\"type\":\"scattermapbox\",\"marker\":{\"colorbar\":{\"outlinewidth\":0,\"ticks\":\"\"}}}],\"scatterternary\":[{\"type\":\"scatterternary\",\"marker\":{\"colorbar\":{\"outlinewidth\":0,\"ticks\":\"\"}}}],\"scattercarpet\":[{\"type\":\"scattercarpet\",\"marker\":{\"colorbar\":{\"outlinewidth\":0,\"ticks\":\"\"}}}],\"carpet\":[{\"aaxis\":{\"endlinecolor\":\"#2a3f5f\",\"gridcolor\":\"white\",\"linecolor\":\"white\",\"minorgridcolor\":\"white\",\"startlinecolor\":\"#2a3f5f\"},\"baxis\":{\"endlinecolor\":\"#2a3f5f\",\"gridcolor\":\"white\",\"linecolor\":\"white\",\"minorgridcolor\":\"white\",\"startlinecolor\":\"#2a3f5f\"},\"type\":\"carpet\"}],\"table\":[{\"cells\":{\"fill\":{\"color\":\"#EBF0F8\"},\"line\":{\"color\":\"white\"}},\"header\":{\"fill\":{\"color\":\"#C8D4E3\"},\"line\":{\"color\":\"white\"}},\"type\":\"table\"}],\"barpolar\":[{\"marker\":{\"line\":{\"color\":\"#E5ECF6\",\"width\":0.5},\"pattern\":{\"fillmode\":\"overlay\",\"size\":10,\"solidity\":0.2}},\"type\":\"barpolar\"}],\"pie\":[{\"automargin\":true,\"type\":\"pie\"}]},\"layout\":{\"autotypenumbers\":\"strict\",\"colorway\":[\"#636efa\",\"#EF553B\",\"#00cc96\",\"#ab63fa\",\"#FFA15A\",\"#19d3f3\",\"#FF6692\",\"#B6E880\",\"#FF97FF\",\"#FECB52\"],\"font\":{\"color\":\"#2a3f5f\"},\"hovermode\":\"closest\",\"hoverlabel\":{\"align\":\"left\"},\"paper_bgcolor\":\"white\",\"plot_bgcolor\":\"#E5ECF6\",\"polar\":{\"bgcolor\":\"#E5ECF6\",\"angularaxis\":{\"gridcolor\":\"white\",\"linecolor\":\"white\",\"ticks\":\"\"},\"radialaxis\":{\"gridcolor\":\"white\",\"linecolor\":\"white\",\"ticks\":\"\"}},\"ternary\":{\"bgcolor\":\"#E5ECF6\",\"aaxis\":{\"gridcolor\":\"white\",\"linecolor\":\"white\",\"ticks\":\"\"},\"baxis\":{\"gridcolor\":\"white\",\"linecolor\":\"white\",\"ticks\":\"\"},\"caxis\":{\"gridcolor\":\"white\",\"linecolor\":\"white\",\"ticks\":\"\"}},\"coloraxis\":{\"colorbar\":{\"outlinewidth\":0,\"ticks\":\"\"}},\"colorscale\":{\"sequential\":[[0.0,\"#0d0887\"],[0.1111111111111111,\"#46039f\"],[0.2222222222222222,\"#7201a8\"],[0.3333333333333333,\"#9c179e\"],[0.4444444444444444,\"#bd3786\"],[0.5555555555555556,\"#d8576b\"],[0.6666666666666666,\"#ed7953\"],[0.7777777777777778,\"#fb9f3a\"],[0.8888888888888888,\"#fdca26\"],[1.0,\"#f0f921\"]],\"sequentialminus\":[[0.0,\"#0d0887\"],[0.1111111111111111,\"#46039f\"],[0.2222222222222222,\"#7201a8\"],[0.3333333333333333,\"#9c179e\"],[0.4444444444444444,\"#bd3786\"],[0.5555555555555556,\"#d8576b\"],[0.6666666666666666,\"#ed7953\"],[0.7777777777777778,\"#fb9f3a\"],[0.8888888888888888,\"#fdca26\"],[1.0,\"#f0f921\"]],\"diverging\":[[0,\"#8e0152\"],[0.1,\"#c51b7d\"],[0.2,\"#de77ae\"],[0.3,\"#f1b6da\"],[0.4,\"#fde0ef\"],[0.5,\"#f7f7f7\"],[0.6,\"#e6f5d0\"],[0.7,\"#b8e186\"],[0.8,\"#7fbc41\"],[0.9,\"#4d9221\"],[1,\"#276419\"]]},\"xaxis\":{\"gridcolor\":\"white\",\"linecolor\":\"white\",\"ticks\":\"\",\"title\":{\"standoff\":15},\"zerolinecolor\":\"white\",\"automargin\":true,\"zerolinewidth\":2},\"yaxis\":{\"gridcolor\":\"white\",\"linecolor\":\"white\",\"ticks\":\"\",\"title\":{\"standoff\":15},\"zerolinecolor\":\"white\",\"automargin\":true,\"zerolinewidth\":2},\"scene\":{\"xaxis\":{\"backgroundcolor\":\"#E5ECF6\",\"gridcolor\":\"white\",\"linecolor\":\"white\",\"showbackground\":true,\"ticks\":\"\",\"zerolinecolor\":\"white\",\"gridwidth\":2},\"yaxis\":{\"backgroundcolor\":\"#E5ECF6\",\"gridcolor\":\"white\",\"linecolor\":\"white\",\"showbackground\":true,\"ticks\":\"\",\"zerolinecolor\":\"white\",\"gridwidth\":2},\"zaxis\":{\"backgroundcolor\":\"#E5ECF6\",\"gridcolor\":\"white\",\"linecolor\":\"white\",\"showbackground\":true,\"ticks\":\"\",\"zerolinecolor\":\"white\",\"gridwidth\":2}},\"shapedefaults\":{\"line\":{\"color\":\"#2a3f5f\"}},\"annotationdefaults\":{\"arrowcolor\":\"#2a3f5f\",\"arrowhead\":0,\"arrowwidth\":1},\"geo\":{\"bgcolor\":\"white\",\"landcolor\":\"#E5ECF6\",\"subunitcolor\":\"white\",\"showland\":true,\"showlakes\":true,\"lakecolor\":\"white\"},\"title\":{\"x\":0.05},\"mapbox\":{\"style\":\"light\"}}},\"geo\":{\"domain\":{\"x\":[0.0,1.0],\"y\":[0.0,1.0]},\"center\":{},\"scope\":\"usa\"},\"coloraxis\":{\"colorbar\":{\"title\":{\"text\":\"Order Count\"}},\"colorscale\":[[0.0,\"#0d0887\"],[0.1111111111111111,\"#46039f\"],[0.2222222222222222,\"#7201a8\"],[0.3333333333333333,\"#9c179e\"],[0.4444444444444444,\"#bd3786\"],[0.5555555555555556,\"#d8576b\"],[0.6666666666666666,\"#ed7953\"],[0.7777777777777778,\"#fb9f3a\"],[0.8888888888888888,\"#fdca26\"],[1.0,\"#f0f921\"]]},\"legend\":{\"tracegroupgap\":0},\"title\":{\"text\":\"Order Count by State\"}},                        {\"responsive\": true}                    ).then(function(){\n",
       "                            \n",
       "var gd = document.getElementById('d484c5ee-0375-4ca3-b091-5c3cdf7c6964');\n",
       "var x = new MutationObserver(function (mutations, observer) {{\n",
       "        var display = window.getComputedStyle(gd).display;\n",
       "        if (!display || display === 'none') {{\n",
       "            console.log([gd, 'removed!']);\n",
       "            Plotly.purge(gd);\n",
       "            observer.disconnect();\n",
       "        }}\n",
       "}});\n",
       "\n",
       "// Listen for the removal of the full notebook cells\n",
       "var notebookContainer = gd.closest('#notebook-container');\n",
       "if (notebookContainer) {{\n",
       "    x.observe(notebookContainer, {childList: true});\n",
       "}}\n",
       "\n",
       "// Listen for the clearing of the current output cell\n",
       "var outputEl = gd.closest('.output');\n",
       "if (outputEl) {{\n",
       "    x.observe(outputEl, {childList: true});\n",
       "}}\n",
       "\n",
       "                        })                };                });            </script>        </div>"
      ]
     },
     "metadata": {},
     "output_type": "display_data"
    },
    {
     "data": {
      "text/plain": [
       "<Figure size 640x480 with 0 Axes>"
      ]
     },
     "metadata": {},
     "output_type": "display_data"
    }
   ],
   "source": [
    "# Define a dictionary to map full state names to abbreviations\n",
    "state_abbreviations = {\n",
    "    'Alabama': 'AL',\n",
    "    'Alaska': 'AK',\n",
    "    'Arizona': 'AZ',\n",
    "    'Arkansas': 'AR',\n",
    "    'California': 'CA',\n",
    "    'Colorado': 'CO',\n",
    "    'Connecticut': 'CT',\n",
    "    'Delaware': 'DE',\n",
    "    'Florida': 'FL',\n",
    "    'Georgia': 'GA',\n",
    "    'Hawaii': 'HI',\n",
    "    'Idaho': 'ID',\n",
    "    'Illinois': 'IL',\n",
    "    'Indiana': 'IN',\n",
    "    'Iowa': 'IA',\n",
    "    'Kansas': 'KS',\n",
    "    'Kentucky': 'KY',\n",
    "    'Louisiana': 'LA',\n",
    "    'Maine': 'ME',\n",
    "    'Maryland': 'MD',\n",
    "    'Massachusetts': 'MA',\n",
    "    'Michigan': 'MI',\n",
    "    'Minnesota': 'MN',\n",
    "    'Mississippi': 'MS',\n",
    "    'Missouri': 'MO',\n",
    "    'Montana': 'MT',\n",
    "    'Nebraska': 'NE',\n",
    "    'Nevada': 'NV',\n",
    "    'New Hampshire': 'NH',\n",
    "    'New Jersey': 'NJ',\n",
    "    'New Mexico': 'NM',\n",
    "    'New York': 'NY',\n",
    "    'North Carolina': 'NC',\n",
    "    'North Dakota': 'ND',\n",
    "    'Ohio': 'OH',\n",
    "    'Oklahoma': 'OK',\n",
    "    'Oregon': 'OR',\n",
    "    'Pennsylvania': 'PA',\n",
    "    'Rhode Island': 'RI',\n",
    "    'South Carolina': 'SC',\n",
    "    'South Dakota': 'SD',\n",
    "    'Tennessee': 'TN',\n",
    "    'Texas': 'TX',\n",
    "    'Utah': 'UT',\n",
    "    'Vermont': 'VT',\n",
    "    'Virginia': 'VA',\n",
    "    'Washington': 'WA',\n",
    "    'West Virginia': 'WV',\n",
    "    'Wisconsin': 'WI',\n",
    "    'Wyoming': 'WY'\n",
    "}\n",
    "\n",
    "# Apply the state abbreviation mapping to the 'state' column\n",
    "grouped_df['state_abbr'] = grouped_df['state'].map(state_abbreviations)\n",
    "\n",
    "# Calculate state counts using the abbreviated column\n",
    "state_counts = grouped_df['state_abbr'].value_counts().reset_index()\n",
    "state_counts.columns = ['state_abbr', 'order_count']\n",
    "\n",
    "# Create the choropleth map using the abbreviated state names\n",
    "fig = px.choropleth(\n",
    "    state_counts,\n",
    "    locations='state_abbr',\n",
    "    locationmode='USA-states',\n",
    "    color='order_count',\n",
    "    scope='usa',\n",
    "    title='Order Count by State',\n",
    "    labels={'order_count': 'Order Count'}\n",
    ")\n",
    "plt.savefig('/Volumes/external_drive/Instacart/Analysis/state_distribution.png', dpi=300)\n",
    "print(grouped_df['state'].value_counts().reset_index())\n",
    "fig.show()"
   ]
  },
  {
   "cell_type": "markdown",
   "id": "91797546",
   "metadata": {},
   "source": [
    "Suprisingly, there is a fairly even distribution of orders amongst the different state. There is roughly a 5000 order difference between the state with the most orders (PA) and the state with the least order (ID)."
   ]
  },
  {
   "cell_type": "markdown",
   "id": "9f57d4b8",
   "metadata": {},
   "source": [
    "# 2. Basket  Price Analysis"
   ]
  },
  {
   "cell_type": "markdown",
   "id": "9b50fe20",
   "metadata": {},
   "source": [
    "### A. Income Tier Basket Price Analysis"
   ]
  },
  {
   "cell_type": "code",
   "execution_count": 122,
   "id": "79b7d347",
   "metadata": {
    "scrolled": true
   },
   "outputs": [
    {
     "data": {
      "text/html": [
       "<div>\n",
       "<style scoped>\n",
       "    .dataframe tbody tr th:only-of-type {\n",
       "        vertical-align: middle;\n",
       "    }\n",
       "\n",
       "    .dataframe tbody tr th {\n",
       "        vertical-align: top;\n",
       "    }\n",
       "\n",
       "    .dataframe thead tr th {\n",
       "        text-align: left;\n",
       "    }\n",
       "\n",
       "    .dataframe thead tr:last-of-type th {\n",
       "        text-align: right;\n",
       "    }\n",
       "</style>\n",
       "<table border=\"1\" class=\"dataframe\">\n",
       "  <thead>\n",
       "    <tr>\n",
       "      <th></th>\n",
       "      <th colspan=\"3\" halign=\"left\">prices</th>\n",
       "    </tr>\n",
       "    <tr>\n",
       "      <th></th>\n",
       "      <th>mean</th>\n",
       "      <th>max</th>\n",
       "      <th>min</th>\n",
       "    </tr>\n",
       "    <tr>\n",
       "      <th>income_tier</th>\n",
       "      <th></th>\n",
       "      <th></th>\n",
       "      <th></th>\n",
       "    </tr>\n",
       "  </thead>\n",
       "  <tbody>\n",
       "    <tr>\n",
       "      <th>lower-income</th>\n",
       "      <td>52.119365</td>\n",
       "      <td>875.0</td>\n",
       "      <td>1.0</td>\n",
       "    </tr>\n",
       "    <tr>\n",
       "      <th>middle-income</th>\n",
       "      <td>82.375839</td>\n",
       "      <td>1092.2</td>\n",
       "      <td>1.0</td>\n",
       "    </tr>\n",
       "    <tr>\n",
       "      <th>upper-income</th>\n",
       "      <td>83.934761</td>\n",
       "      <td>1047.4</td>\n",
       "      <td>1.0</td>\n",
       "    </tr>\n",
       "  </tbody>\n",
       "</table>\n",
       "</div>"
      ],
      "text/plain": [
       "                  prices             \n",
       "                    mean     max  min\n",
       "income_tier                          \n",
       "lower-income   52.119365   875.0  1.0\n",
       "middle-income  82.375839  1092.2  1.0\n",
       "upper-income   83.934761  1047.4  1.0"
      ]
     },
     "execution_count": 122,
     "metadata": {},
     "output_type": "execute_result"
    }
   ],
   "source": [
    "# mean, min, max basket value for income tiers\n",
    "grouped_df.groupby('income_tier').agg({'prices': ['mean', 'max', 'min']})"
   ]
  },
  {
   "cell_type": "code",
   "execution_count": 194,
   "id": "d39e24ad",
   "metadata": {
    "scrolled": false
   },
   "outputs": [
    {
     "data": {
      "image/png": "[encoded data removed]",
      "text/plain": [
       "<Figure size 640x480 with 1 Axes>"
      ]
     },
     "metadata": {},
     "output_type": "display_data"
    }
   ],
   "source": [
    "# creating bar graph for mean values\n",
    "income_tier_stats = grouped_df.groupby('income_tier').agg({'prices': 'mean'})\n",
    "plt.figure()\n",
    "plt.bar(income_tier_stats.index, income_tier_stats['prices'], align='center')\n",
    "plt.xlabel('Income Tier')\n",
    "plt.ylabel('Mean Prices')\n",
    "plt.title('Mean Basket Prices for Different Income Tiers')\n",
    "plt.xticks(rotation=0)\n",
    "plt.savefig('/Volumes/external_drive/Instacart/Analysis/income_tier_stats.png', dpi=300)\n",
    "plt.show()"
   ]
  },
  {
   "cell_type": "markdown",
   "id": "7e0fbeb6",
   "metadata": {},
   "source": [
    "On average, middle and upper income customers spend around 58% more per order than lower income customers. There is no significant difference in the order price between upper and middle income customers."
   ]
  },
  {
   "cell_type": "markdown",
   "id": "96225229",
   "metadata": {},
   "source": [
    "### B. Family Profile Basket Price Analysis"
   ]
  },
  {
   "cell_type": "code",
   "execution_count": 121,
   "id": "9afbecee",
   "metadata": {
    "scrolled": true
   },
   "outputs": [
    {
     "data": {
      "text/html": [
       "<div>\n",
       "<style scoped>\n",
       "    .dataframe tbody tr th:only-of-type {\n",
       "        vertical-align: middle;\n",
       "    }\n",
       "\n",
       "    .dataframe tbody tr th {\n",
       "        vertical-align: top;\n",
       "    }\n",
       "\n",
       "    .dataframe thead tr th {\n",
       "        text-align: left;\n",
       "    }\n",
       "\n",
       "    .dataframe thead tr:last-of-type th {\n",
       "        text-align: right;\n",
       "    }\n",
       "</style>\n",
       "<table border=\"1\" class=\"dataframe\">\n",
       "  <thead>\n",
       "    <tr>\n",
       "      <th></th>\n",
       "      <th colspan=\"3\" halign=\"left\">prices</th>\n",
       "    </tr>\n",
       "    <tr>\n",
       "      <th></th>\n",
       "      <th>mean</th>\n",
       "      <th>max</th>\n",
       "      <th>min</th>\n",
       "    </tr>\n",
       "    <tr>\n",
       "      <th>family_profile</th>\n",
       "      <th></th>\n",
       "      <th></th>\n",
       "      <th></th>\n",
       "    </tr>\n",
       "  </thead>\n",
       "  <tbody>\n",
       "    <tr>\n",
       "      <th>married, children</th>\n",
       "      <td>78.588788</td>\n",
       "      <td>1092.2</td>\n",
       "      <td>1.0</td>\n",
       "    </tr>\n",
       "    <tr>\n",
       "      <th>married, no children</th>\n",
       "      <td>78.526571</td>\n",
       "      <td>852.5</td>\n",
       "      <td>1.0</td>\n",
       "    </tr>\n",
       "    <tr>\n",
       "      <th>single, children</th>\n",
       "      <td>79.260516</td>\n",
       "      <td>750.3</td>\n",
       "      <td>1.0</td>\n",
       "    </tr>\n",
       "    <tr>\n",
       "      <th>single, no children</th>\n",
       "      <td>78.346685</td>\n",
       "      <td>875.0</td>\n",
       "      <td>1.0</td>\n",
       "    </tr>\n",
       "  </tbody>\n",
       "</table>\n",
       "</div>"
      ],
      "text/plain": [
       "                         prices             \n",
       "                           mean     max  min\n",
       "family_profile                              \n",
       "married, children     78.588788  1092.2  1.0\n",
       "married, no children  78.526571   852.5  1.0\n",
       "single, children      79.260516   750.3  1.0\n",
       "single, no children   78.346685   875.0  1.0"
      ]
     },
     "execution_count": 121,
     "metadata": {},
     "output_type": "execute_result"
    }
   ],
   "source": [
    "# mean, min, max basket value for family profiles\n",
    "grouped_df.groupby('family_profile').agg({'prices': ['mean', 'max', 'min']})"
   ]
  },
  {
   "cell_type": "markdown",
   "id": "7abf164b",
   "metadata": {},
   "source": [
    "There is no significant difference in basket prices between the different family profiles."
   ]
  },
  {
   "cell_type": "markdown",
   "id": "6d52c7c9",
   "metadata": {},
   "source": [
    "### C. Age Group Basket Price Analysis"
   ]
  },
  {
   "cell_type": "code",
   "execution_count": 131,
   "id": "700d7c08",
   "metadata": {
    "scrolled": true
   },
   "outputs": [
    {
     "data": {
      "text/html": [
       "<div>\n",
       "<style scoped>\n",
       "    .dataframe tbody tr th:only-of-type {\n",
       "        vertical-align: middle;\n",
       "    }\n",
       "\n",
       "    .dataframe tbody tr th {\n",
       "        vertical-align: top;\n",
       "    }\n",
       "\n",
       "    .dataframe thead tr th {\n",
       "        text-align: left;\n",
       "    }\n",
       "\n",
       "    .dataframe thead tr:last-of-type th {\n",
       "        text-align: right;\n",
       "    }\n",
       "</style>\n",
       "<table border=\"1\" class=\"dataframe\">\n",
       "  <thead>\n",
       "    <tr>\n",
       "      <th></th>\n",
       "      <th colspan=\"3\" halign=\"left\">prices</th>\n",
       "    </tr>\n",
       "    <tr>\n",
       "      <th></th>\n",
       "      <th>mean</th>\n",
       "      <th>max</th>\n",
       "      <th>min</th>\n",
       "    </tr>\n",
       "    <tr>\n",
       "      <th>age_group</th>\n",
       "      <th></th>\n",
       "      <th></th>\n",
       "      <th></th>\n",
       "    </tr>\n",
       "  </thead>\n",
       "  <tbody>\n",
       "    <tr>\n",
       "      <th>18-24</th>\n",
       "      <td>78.904548</td>\n",
       "      <td>842.1</td>\n",
       "      <td>1.0</td>\n",
       "    </tr>\n",
       "    <tr>\n",
       "      <th>25-34</th>\n",
       "      <td>78.858091</td>\n",
       "      <td>718.6</td>\n",
       "      <td>1.0</td>\n",
       "    </tr>\n",
       "    <tr>\n",
       "      <th>35-44</th>\n",
       "      <td>78.719699</td>\n",
       "      <td>829.2</td>\n",
       "      <td>1.0</td>\n",
       "    </tr>\n",
       "    <tr>\n",
       "      <th>45-54</th>\n",
       "      <td>78.331589</td>\n",
       "      <td>1047.4</td>\n",
       "      <td>1.0</td>\n",
       "    </tr>\n",
       "    <tr>\n",
       "      <th>55-64</th>\n",
       "      <td>78.498631</td>\n",
       "      <td>1092.2</td>\n",
       "      <td>1.0</td>\n",
       "    </tr>\n",
       "    <tr>\n",
       "      <th>65+</th>\n",
       "      <td>78.267200</td>\n",
       "      <td>787.0</td>\n",
       "      <td>1.0</td>\n",
       "    </tr>\n",
       "  </tbody>\n",
       "</table>\n",
       "</div>"
      ],
      "text/plain": [
       "              prices             \n",
       "                mean     max  min\n",
       "age_group                        \n",
       "18-24      78.904548   842.1  1.0\n",
       "25-34      78.858091   718.6  1.0\n",
       "35-44      78.719699   829.2  1.0\n",
       "45-54      78.331589  1047.4  1.0\n",
       "55-64      78.498631  1092.2  1.0\n",
       "65+        78.267200   787.0  1.0"
      ]
     },
     "execution_count": 131,
     "metadata": {},
     "output_type": "execute_result"
    }
   ],
   "source": [
    "# mean, min, max basket value for age groups\n",
    "grouped_df.groupby('age_group').agg({'prices': ['mean', 'max', 'min']})"
   ]
  },
  {
   "cell_type": "markdown",
   "id": "02825805",
   "metadata": {},
   "source": [
    "There is no significant difference in basket prices between the different age groups."
   ]
  },
  {
   "cell_type": "markdown",
   "id": "f0f7149d",
   "metadata": {},
   "source": [
    "### D. Meat/Seafood Basket Price Analysis"
   ]
  },
  {
   "cell_type": "code",
   "execution_count": 125,
   "id": "cc7b47eb",
   "metadata": {
    "scrolled": false
   },
   "outputs": [
    {
     "data": {
      "text/html": [
       "<div>\n",
       "<style scoped>\n",
       "    .dataframe tbody tr th:only-of-type {\n",
       "        vertical-align: middle;\n",
       "    }\n",
       "\n",
       "    .dataframe tbody tr th {\n",
       "        vertical-align: top;\n",
       "    }\n",
       "\n",
       "    .dataframe thead tr th {\n",
       "        text-align: left;\n",
       "    }\n",
       "\n",
       "    .dataframe thead tr:last-of-type th {\n",
       "        text-align: right;\n",
       "    }\n",
       "</style>\n",
       "<table border=\"1\" class=\"dataframe\">\n",
       "  <thead>\n",
       "    <tr>\n",
       "      <th></th>\n",
       "      <th colspan=\"3\" halign=\"left\">prices</th>\n",
       "    </tr>\n",
       "    <tr>\n",
       "      <th></th>\n",
       "      <th>mean</th>\n",
       "      <th>max</th>\n",
       "      <th>min</th>\n",
       "    </tr>\n",
       "    <tr>\n",
       "      <th>meat_seafood_flag</th>\n",
       "      <th></th>\n",
       "      <th></th>\n",
       "      <th></th>\n",
       "    </tr>\n",
       "  </thead>\n",
       "  <tbody>\n",
       "    <tr>\n",
       "      <th>meat/seafood buyer</th>\n",
       "      <td>89.302100</td>\n",
       "      <td>1092.2</td>\n",
       "      <td>1.0</td>\n",
       "    </tr>\n",
       "    <tr>\n",
       "      <th>non-meat/seafood buyer</th>\n",
       "      <td>58.169525</td>\n",
       "      <td>775.7</td>\n",
       "      <td>1.0</td>\n",
       "    </tr>\n",
       "  </tbody>\n",
       "</table>\n",
       "</div>"
      ],
      "text/plain": [
       "                           prices             \n",
       "                             mean     max  min\n",
       "meat_seafood_flag                             \n",
       "meat/seafood buyer      89.302100  1092.2  1.0\n",
       "non-meat/seafood buyer  58.169525   775.7  1.0"
      ]
     },
     "execution_count": 125,
     "metadata": {},
     "output_type": "execute_result"
    }
   ],
   "source": [
    "# mean, min, max basket value for meat/seafood flag\n",
    "grouped_df.groupby('meat_seafood_flag').agg({'prices': ['mean', 'max', 'min']})"
   ]
  },
  {
   "cell_type": "code",
   "execution_count": 204,
   "id": "50f9625c",
   "metadata": {},
   "outputs": [
    {
     "data": {
      "image/png": "[encoded data removed]",
      "text/plain": [
       "<Figure size 640x480 with 1 Axes>"
      ]
     },
     "metadata": {},
     "output_type": "display_data"
    }
   ],
   "source": [
    "# creating bar graph for mean values\n",
    "meat_stats = grouped_df.groupby('meat_seafood_flag').agg({'prices': 'mean'})\n",
    "plt.figure()\n",
    "plt.bar(meat_stats.index, meat_stats['prices'], align='center')\n",
    "plt.xlabel('Meat Seafood Flag')\n",
    "plt.ylabel('Mean Prices')\n",
    "plt.title('Mean Basket Prices for Meat/Seafood Buyers and Non-Meat/Seafood Buyers')\n",
    "plt.xticks(rotation=0)\n",
    "plt.savefig('/Volumes/external_drive/Instacart/Analysis/meat_stats.png', dpi=300)\n",
    "plt.show()"
   ]
  },
  {
   "cell_type": "markdown",
   "id": "d1fde00e",
   "metadata": {},
   "source": [
    "On average, meat/seafood buyers spend 53% more per order than non-meat/seafood buyers."
   ]
  },
  {
   "cell_type": "markdown",
   "id": "565d69f3",
   "metadata": {},
   "source": [
    "### E. Region Basket Price Analysis"
   ]
  },
  {
   "cell_type": "code",
   "execution_count": 207,
   "id": "d2b4e706",
   "metadata": {
    "scrolled": false
   },
   "outputs": [
    {
     "data": {
      "text/html": [
       "<div>\n",
       "<style scoped>\n",
       "    .dataframe tbody tr th:only-of-type {\n",
       "        vertical-align: middle;\n",
       "    }\n",
       "\n",
       "    .dataframe tbody tr th {\n",
       "        vertical-align: top;\n",
       "    }\n",
       "\n",
       "    .dataframe thead tr th {\n",
       "        text-align: left;\n",
       "    }\n",
       "\n",
       "    .dataframe thead tr:last-of-type th {\n",
       "        text-align: right;\n",
       "    }\n",
       "</style>\n",
       "<table border=\"1\" class=\"dataframe\">\n",
       "  <thead>\n",
       "    <tr>\n",
       "      <th></th>\n",
       "      <th colspan=\"3\" halign=\"left\">prices</th>\n",
       "    </tr>\n",
       "    <tr>\n",
       "      <th></th>\n",
       "      <th>mean</th>\n",
       "      <th>max</th>\n",
       "      <th>min</th>\n",
       "    </tr>\n",
       "    <tr>\n",
       "      <th>region</th>\n",
       "      <th></th>\n",
       "      <th></th>\n",
       "      <th></th>\n",
       "    </tr>\n",
       "  </thead>\n",
       "  <tbody>\n",
       "    <tr>\n",
       "      <th>midwest</th>\n",
       "      <td>78.500118</td>\n",
       "      <td>751.1</td>\n",
       "      <td>1.0</td>\n",
       "    </tr>\n",
       "    <tr>\n",
       "      <th>northeast</th>\n",
       "      <td>78.535164</td>\n",
       "      <td>1092.2</td>\n",
       "      <td>1.0</td>\n",
       "    </tr>\n",
       "    <tr>\n",
       "      <th>south</th>\n",
       "      <td>78.514734</td>\n",
       "      <td>875.0</td>\n",
       "      <td>1.0</td>\n",
       "    </tr>\n",
       "    <tr>\n",
       "      <th>west</th>\n",
       "      <td>78.634521</td>\n",
       "      <td>852.5</td>\n",
       "      <td>1.0</td>\n",
       "    </tr>\n",
       "  </tbody>\n",
       "</table>\n",
       "</div>"
      ],
      "text/plain": [
       "              prices             \n",
       "                mean     max  min\n",
       "region                           \n",
       "midwest    78.500118   751.1  1.0\n",
       "northeast  78.535164  1092.2  1.0\n",
       "south      78.514734   875.0  1.0\n",
       "west       78.634521   852.5  1.0"
      ]
     },
     "execution_count": 207,
     "metadata": {},
     "output_type": "execute_result"
    }
   ],
   "source": [
    "# mean, min, max basket value for meat/seafood flag\n",
    "grouped_df.groupby('region').agg({'prices': ['mean', 'max', 'min']})"
   ]
  },
  {
   "cell_type": "markdown",
   "id": "c83ecb13",
   "metadata": {},
   "source": [
    "There is no significant difference in basket prices between the different regions."
   ]
  },
  {
   "cell_type": "markdown",
   "id": "e0814c00",
   "metadata": {},
   "source": [
    "### F. Loyalty Basket Price Analysis"
   ]
  },
  {
   "cell_type": "code",
   "execution_count": 14,
   "id": "386ea80d",
   "metadata": {
    "scrolled": true
   },
   "outputs": [
    {
     "data": {
      "text/html": [
       "<div>\n",
       "<style scoped>\n",
       "    .dataframe tbody tr th:only-of-type {\n",
       "        vertical-align: middle;\n",
       "    }\n",
       "\n",
       "    .dataframe tbody tr th {\n",
       "        vertical-align: top;\n",
       "    }\n",
       "\n",
       "    .dataframe thead tr th {\n",
       "        text-align: left;\n",
       "    }\n",
       "\n",
       "    .dataframe thead tr:last-of-type th {\n",
       "        text-align: right;\n",
       "    }\n",
       "</style>\n",
       "<table border=\"1\" class=\"dataframe\">\n",
       "  <thead>\n",
       "    <tr>\n",
       "      <th></th>\n",
       "      <th colspan=\"3\" halign=\"left\">prices</th>\n",
       "    </tr>\n",
       "    <tr>\n",
       "      <th></th>\n",
       "      <th>mean</th>\n",
       "      <th>max</th>\n",
       "      <th>min</th>\n",
       "    </tr>\n",
       "    <tr>\n",
       "      <th>loyalty_flag</th>\n",
       "      <th></th>\n",
       "      <th></th>\n",
       "      <th></th>\n",
       "    </tr>\n",
       "  </thead>\n",
       "  <tbody>\n",
       "    <tr>\n",
       "      <th>loyal customer</th>\n",
       "      <td>78.039930</td>\n",
       "      <td>875.0</td>\n",
       "      <td>1.0</td>\n",
       "    </tr>\n",
       "    <tr>\n",
       "      <th>new customer</th>\n",
       "      <td>76.360590</td>\n",
       "      <td>829.2</td>\n",
       "      <td>1.0</td>\n",
       "    </tr>\n",
       "    <tr>\n",
       "      <th>regular customer</th>\n",
       "      <td>79.728568</td>\n",
       "      <td>1092.2</td>\n",
       "      <td>1.0</td>\n",
       "    </tr>\n",
       "  </tbody>\n",
       "</table>\n",
       "</div>"
      ],
      "text/plain": [
       "                     prices             \n",
       "                       mean     max  min\n",
       "loyalty_flag                            \n",
       "loyal customer    78.039930   875.0  1.0\n",
       "new customer      76.360590   829.2  1.0\n",
       "regular customer  79.728568  1092.2  1.0"
      ]
     },
     "execution_count": 14,
     "metadata": {},
     "output_type": "execute_result"
    }
   ],
   "source": [
    "# mean, min, max basket value for loyalty flag\n",
    "grouped_df.groupby('loyalty_flag').agg({'prices': ['mean', 'max', 'min']})"
   ]
  },
  {
   "cell_type": "markdown",
   "id": "0dcea11f",
   "metadata": {},
   "source": [
    "There is no significant difference in basket prices and customer loyalty."
   ]
  },
  {
   "cell_type": "markdown",
   "id": "0cb9882b",
   "metadata": {},
   "source": [
    "# 3. Frequency Analysis"
   ]
  },
  {
   "cell_type": "markdown",
   "id": "b38db5f1",
   "metadata": {},
   "source": [
    "### A. Income Tier Frequency Analysis"
   ]
  },
  {
   "cell_type": "code",
   "execution_count": 225,
   "id": "158196b4",
   "metadata": {},
   "outputs": [
    {
     "data": {
      "text/html": [
       "<div>\n",
       "<style scoped>\n",
       "    .dataframe tbody tr th:only-of-type {\n",
       "        vertical-align: middle;\n",
       "    }\n",
       "\n",
       "    .dataframe tbody tr th {\n",
       "        vertical-align: top;\n",
       "    }\n",
       "\n",
       "    .dataframe thead tr th {\n",
       "        text-align: left;\n",
       "    }\n",
       "\n",
       "    .dataframe thead tr:last-of-type th {\n",
       "        text-align: right;\n",
       "    }\n",
       "</style>\n",
       "<table border=\"1\" class=\"dataframe\">\n",
       "  <thead>\n",
       "    <tr>\n",
       "      <th></th>\n",
       "      <th colspan=\"3\" halign=\"left\">days_since_prior_order</th>\n",
       "    </tr>\n",
       "    <tr>\n",
       "      <th></th>\n",
       "      <th>mean</th>\n",
       "      <th>max</th>\n",
       "      <th>min</th>\n",
       "    </tr>\n",
       "    <tr>\n",
       "      <th>income_tier</th>\n",
       "      <th></th>\n",
       "      <th></th>\n",
       "      <th></th>\n",
       "    </tr>\n",
       "  </thead>\n",
       "  <tbody>\n",
       "    <tr>\n",
       "      <th>lower-income</th>\n",
       "      <td>11.607573</td>\n",
       "      <td>30.0</td>\n",
       "      <td>0.0</td>\n",
       "    </tr>\n",
       "    <tr>\n",
       "      <th>middle-income</th>\n",
       "      <td>11.062062</td>\n",
       "      <td>30.0</td>\n",
       "      <td>0.0</td>\n",
       "    </tr>\n",
       "    <tr>\n",
       "      <th>upper-income</th>\n",
       "      <td>10.968832</td>\n",
       "      <td>30.0</td>\n",
       "      <td>0.0</td>\n",
       "    </tr>\n",
       "  </tbody>\n",
       "</table>\n",
       "</div>"
      ],
      "text/plain": [
       "              days_since_prior_order           \n",
       "                                mean   max  min\n",
       "income_tier                                    \n",
       "lower-income               11.607573  30.0  0.0\n",
       "middle-income              11.062062  30.0  0.0\n",
       "upper-income               10.968832  30.0  0.0"
      ]
     },
     "execution_count": 225,
     "metadata": {},
     "output_type": "execute_result"
    }
   ],
   "source": [
    "# mean, min, max frequency for income tiers\n",
    "insta_df.groupby('income_tier').agg({'days_since_prior_order': ['mean', 'max', 'min']})"
   ]
  },
  {
   "cell_type": "markdown",
   "id": "2f13b10d",
   "metadata": {},
   "source": [
    "There is no sgnificant difference in the frequency of orders between the different age groups."
   ]
  },
  {
   "cell_type": "markdown",
   "id": "21a3903c",
   "metadata": {},
   "source": [
    "### B. Family Profile Frequency Analysis"
   ]
  },
  {
   "cell_type": "code",
   "execution_count": 226,
   "id": "65ddd60a",
   "metadata": {},
   "outputs": [
    {
     "data": {
      "text/html": [
       "<div>\n",
       "<style scoped>\n",
       "    .dataframe tbody tr th:only-of-type {\n",
       "        vertical-align: middle;\n",
       "    }\n",
       "\n",
       "    .dataframe tbody tr th {\n",
       "        vertical-align: top;\n",
       "    }\n",
       "\n",
       "    .dataframe thead tr th {\n",
       "        text-align: left;\n",
       "    }\n",
       "\n",
       "    .dataframe thead tr:last-of-type th {\n",
       "        text-align: right;\n",
       "    }\n",
       "</style>\n",
       "<table border=\"1\" class=\"dataframe\">\n",
       "  <thead>\n",
       "    <tr>\n",
       "      <th></th>\n",
       "      <th colspan=\"3\" halign=\"left\">days_since_prior_order</th>\n",
       "    </tr>\n",
       "    <tr>\n",
       "      <th></th>\n",
       "      <th>mean</th>\n",
       "      <th>max</th>\n",
       "      <th>min</th>\n",
       "    </tr>\n",
       "    <tr>\n",
       "      <th>family_profile</th>\n",
       "      <th></th>\n",
       "      <th></th>\n",
       "      <th></th>\n",
       "    </tr>\n",
       "  </thead>\n",
       "  <tbody>\n",
       "    <tr>\n",
       "      <th>married, children</th>\n",
       "      <td>11.117681</td>\n",
       "      <td>30.0</td>\n",
       "      <td>0.0</td>\n",
       "    </tr>\n",
       "    <tr>\n",
       "      <th>married, no children</th>\n",
       "      <td>11.113141</td>\n",
       "      <td>30.0</td>\n",
       "      <td>0.0</td>\n",
       "    </tr>\n",
       "    <tr>\n",
       "      <th>single, children</th>\n",
       "      <td>11.048170</td>\n",
       "      <td>30.0</td>\n",
       "      <td>0.0</td>\n",
       "    </tr>\n",
       "    <tr>\n",
       "      <th>single, no children</th>\n",
       "      <td>11.080805</td>\n",
       "      <td>30.0</td>\n",
       "      <td>0.0</td>\n",
       "    </tr>\n",
       "  </tbody>\n",
       "</table>\n",
       "</div>"
      ],
      "text/plain": [
       "                     days_since_prior_order           \n",
       "                                       mean   max  min\n",
       "family_profile                                        \n",
       "married, children                 11.117681  30.0  0.0\n",
       "married, no children              11.113141  30.0  0.0\n",
       "single, children                  11.048170  30.0  0.0\n",
       "single, no children               11.080805  30.0  0.0"
      ]
     },
     "execution_count": 226,
     "metadata": {},
     "output_type": "execute_result"
    }
   ],
   "source": [
    "# mean, min, max frequency for family profiles\n",
    "insta_df.groupby('family_profile').agg({'days_since_prior_order': ['mean', 'max', 'min']})"
   ]
  },
  {
   "cell_type": "markdown",
   "id": "dd7b83b2",
   "metadata": {},
   "source": [
    "There is no sgnificant difference in the frequency of orders between the different family profiles."
   ]
  },
  {
   "cell_type": "markdown",
   "id": "a4b8dfa5",
   "metadata": {},
   "source": [
    "### C. Age Group Frequency Analysis"
   ]
  },
  {
   "cell_type": "code",
   "execution_count": 227,
   "id": "adf5733a",
   "metadata": {},
   "outputs": [
    {
     "data": {
      "text/html": [
       "<div>\n",
       "<style scoped>\n",
       "    .dataframe tbody tr th:only-of-type {\n",
       "        vertical-align: middle;\n",
       "    }\n",
       "\n",
       "    .dataframe tbody tr th {\n",
       "        vertical-align: top;\n",
       "    }\n",
       "\n",
       "    .dataframe thead tr th {\n",
       "        text-align: left;\n",
       "    }\n",
       "\n",
       "    .dataframe thead tr:last-of-type th {\n",
       "        text-align: right;\n",
       "    }\n",
       "</style>\n",
       "<table border=\"1\" class=\"dataframe\">\n",
       "  <thead>\n",
       "    <tr>\n",
       "      <th></th>\n",
       "      <th colspan=\"3\" halign=\"left\">days_since_prior_order</th>\n",
       "    </tr>\n",
       "    <tr>\n",
       "      <th></th>\n",
       "      <th>mean</th>\n",
       "      <th>max</th>\n",
       "      <th>min</th>\n",
       "    </tr>\n",
       "    <tr>\n",
       "      <th>age_group</th>\n",
       "      <th></th>\n",
       "      <th></th>\n",
       "      <th></th>\n",
       "    </tr>\n",
       "  </thead>\n",
       "  <tbody>\n",
       "    <tr>\n",
       "      <th>18-24</th>\n",
       "      <td>11.057388</td>\n",
       "      <td>30.0</td>\n",
       "      <td>0.0</td>\n",
       "    </tr>\n",
       "    <tr>\n",
       "      <th>25-34</th>\n",
       "      <td>11.165556</td>\n",
       "      <td>30.0</td>\n",
       "      <td>0.0</td>\n",
       "    </tr>\n",
       "    <tr>\n",
       "      <th>35-44</th>\n",
       "      <td>11.084533</td>\n",
       "      <td>30.0</td>\n",
       "      <td>0.0</td>\n",
       "    </tr>\n",
       "    <tr>\n",
       "      <th>45-54</th>\n",
       "      <td>11.092368</td>\n",
       "      <td>30.0</td>\n",
       "      <td>0.0</td>\n",
       "    </tr>\n",
       "    <tr>\n",
       "      <th>55-64</th>\n",
       "      <td>11.150466</td>\n",
       "      <td>30.0</td>\n",
       "      <td>0.0</td>\n",
       "    </tr>\n",
       "    <tr>\n",
       "      <th>65+</th>\n",
       "      <td>11.078641</td>\n",
       "      <td>30.0</td>\n",
       "      <td>0.0</td>\n",
       "    </tr>\n",
       "  </tbody>\n",
       "</table>\n",
       "</div>"
      ],
      "text/plain": [
       "          days_since_prior_order           \n",
       "                            mean   max  min\n",
       "age_group                                  \n",
       "18-24                  11.057388  30.0  0.0\n",
       "25-34                  11.165556  30.0  0.0\n",
       "35-44                  11.084533  30.0  0.0\n",
       "45-54                  11.092368  30.0  0.0\n",
       "55-64                  11.150466  30.0  0.0\n",
       "65+                    11.078641  30.0  0.0"
      ]
     },
     "execution_count": 227,
     "metadata": {},
     "output_type": "execute_result"
    }
   ],
   "source": [
    "# mean, min, max frequency for age groups\n",
    "insta_df.groupby('age_group').agg({'days_since_prior_order': ['mean', 'max', 'min']})"
   ]
  },
  {
   "cell_type": "markdown",
   "id": "260eddcf",
   "metadata": {},
   "source": [
    "There is no sgnificant difference in the frequency of orders between the different age groups."
   ]
  },
  {
   "cell_type": "markdown",
   "id": "cd12f47f",
   "metadata": {},
   "source": [
    "### D. Meat/Seafood Buyer Frequency Analysis"
   ]
  },
  {
   "cell_type": "code",
   "execution_count": 228,
   "id": "ffebb416",
   "metadata": {},
   "outputs": [
    {
     "data": {
      "text/html": [
       "<div>\n",
       "<style scoped>\n",
       "    .dataframe tbody tr th:only-of-type {\n",
       "        vertical-align: middle;\n",
       "    }\n",
       "\n",
       "    .dataframe tbody tr th {\n",
       "        vertical-align: top;\n",
       "    }\n",
       "\n",
       "    .dataframe thead tr th {\n",
       "        text-align: left;\n",
       "    }\n",
       "\n",
       "    .dataframe thead tr:last-of-type th {\n",
       "        text-align: right;\n",
       "    }\n",
       "</style>\n",
       "<table border=\"1\" class=\"dataframe\">\n",
       "  <thead>\n",
       "    <tr>\n",
       "      <th></th>\n",
       "      <th colspan=\"3\" halign=\"left\">days_since_prior_order</th>\n",
       "    </tr>\n",
       "    <tr>\n",
       "      <th></th>\n",
       "      <th>mean</th>\n",
       "      <th>max</th>\n",
       "      <th>min</th>\n",
       "    </tr>\n",
       "    <tr>\n",
       "      <th>meat_seafood_flag</th>\n",
       "      <th></th>\n",
       "      <th></th>\n",
       "      <th></th>\n",
       "    </tr>\n",
       "  </thead>\n",
       "  <tbody>\n",
       "    <tr>\n",
       "      <th>meat/seafood buyer</th>\n",
       "      <td>10.762605</td>\n",
       "      <td>30.0</td>\n",
       "      <td>0.0</td>\n",
       "    </tr>\n",
       "    <tr>\n",
       "      <th>non-meat/seafood buyer</th>\n",
       "      <td>12.071076</td>\n",
       "      <td>30.0</td>\n",
       "      <td>0.0</td>\n",
       "    </tr>\n",
       "  </tbody>\n",
       "</table>\n",
       "</div>"
      ],
      "text/plain": [
       "                       days_since_prior_order           \n",
       "                                         mean   max  min\n",
       "meat_seafood_flag                                       \n",
       "meat/seafood buyer                  10.762605  30.0  0.0\n",
       "non-meat/seafood buyer              12.071076  30.0  0.0"
      ]
     },
     "execution_count": 228,
     "metadata": {},
     "output_type": "execute_result"
    }
   ],
   "source": [
    "# mean, min, max frequency for meat/seafood buyers\n",
    "insta_df.groupby('meat_seafood_flag').agg({'days_since_prior_order': ['mean', 'max', 'min']})"
   ]
  },
  {
   "cell_type": "code",
   "execution_count": 234,
   "id": "047c3dac",
   "metadata": {
    "scrolled": false
   },
   "outputs": [
    {
     "data": {
      "image/png": "[encoded data removed]",
      "text/plain": [
       "<Figure size 640x480 with 1 Axes>"
      ]
     },
     "metadata": {},
     "output_type": "display_data"
    }
   ],
   "source": [
    "# creating bar graph for mean values\n",
    "meatseafood_stats = insta_df.groupby('meat_seafood_flag').agg({'days_since_prior_order': 'mean'})\n",
    "plt.figure()\n",
    "plt.bar(meatseafood_stats.index, meatseafood_stats['days_since_prior_order'], align='center')\n",
    "plt.xlabel('Meat Seafood Flag')\n",
    "plt.ylabel('Mean Frequency of Orders (Days)')\n",
    "plt.title('Mean Frequency of Orders for Meat/Seafood Buyers vs Non-Meat/Seafood Buyers')\n",
    "plt.xticks(rotation=0)\n",
    "plt.savefig('/Volumes/external_drive/Instacart/Analysis/meatseafood_frequency.png', dpi=300)\n",
    "plt.show()"
   ]
  },
  {
   "cell_type": "markdown",
   "id": "9d4ab8c1",
   "metadata": {},
   "source": [
    "Meat/seafood buyers order more frequently than non-meat/seafood buyers."
   ]
  },
  {
   "cell_type": "markdown",
   "id": "b7584b8a",
   "metadata": {},
   "source": [
    "### C. Region Frequency Analysis"
   ]
  },
  {
   "cell_type": "code",
   "execution_count": 269,
   "id": "210994fb",
   "metadata": {
    "scrolled": false
   },
   "outputs": [
    {
     "data": {
      "text/html": [
       "<div>\n",
       "<style scoped>\n",
       "    .dataframe tbody tr th:only-of-type {\n",
       "        vertical-align: middle;\n",
       "    }\n",
       "\n",
       "    .dataframe tbody tr th {\n",
       "        vertical-align: top;\n",
       "    }\n",
       "\n",
       "    .dataframe thead tr th {\n",
       "        text-align: left;\n",
       "    }\n",
       "\n",
       "    .dataframe thead tr:last-of-type th {\n",
       "        text-align: right;\n",
       "    }\n",
       "</style>\n",
       "<table border=\"1\" class=\"dataframe\">\n",
       "  <thead>\n",
       "    <tr>\n",
       "      <th></th>\n",
       "      <th colspan=\"3\" halign=\"left\">days_since_prior_order</th>\n",
       "    </tr>\n",
       "    <tr>\n",
       "      <th></th>\n",
       "      <th>mean</th>\n",
       "      <th>max</th>\n",
       "      <th>min</th>\n",
       "    </tr>\n",
       "    <tr>\n",
       "      <th>region</th>\n",
       "      <th></th>\n",
       "      <th></th>\n",
       "      <th></th>\n",
       "    </tr>\n",
       "  </thead>\n",
       "  <tbody>\n",
       "    <tr>\n",
       "      <th>midwest</th>\n",
       "      <td>11.181836</td>\n",
       "      <td>30.0</td>\n",
       "      <td>0.0</td>\n",
       "    </tr>\n",
       "    <tr>\n",
       "      <th>northeast</th>\n",
       "      <td>11.075769</td>\n",
       "      <td>30.0</td>\n",
       "      <td>0.0</td>\n",
       "    </tr>\n",
       "    <tr>\n",
       "      <th>south</th>\n",
       "      <td>11.108108</td>\n",
       "      <td>30.0</td>\n",
       "      <td>0.0</td>\n",
       "    </tr>\n",
       "    <tr>\n",
       "      <th>west</th>\n",
       "      <td>11.047196</td>\n",
       "      <td>30.0</td>\n",
       "      <td>0.0</td>\n",
       "    </tr>\n",
       "  </tbody>\n",
       "</table>\n",
       "</div>"
      ],
      "text/plain": [
       "          days_since_prior_order           \n",
       "                            mean   max  min\n",
       "region                                     \n",
       "midwest                11.181836  30.0  0.0\n",
       "northeast              11.075769  30.0  0.0\n",
       "south                  11.108108  30.0  0.0\n",
       "west                   11.047196  30.0  0.0"
      ]
     },
     "execution_count": 269,
     "metadata": {},
     "output_type": "execute_result"
    }
   ],
   "source": [
    "# mean, min, max frequency for meat/seafood buyers\n",
    "insta_df.groupby('region').agg({'days_since_prior_order': ['mean', 'max', 'min']})"
   ]
  },
  {
   "cell_type": "markdown",
   "id": "86bd5998",
   "metadata": {},
   "source": [
    "There is no sgnificant difference in the frequency of orders between the different regions."
   ]
  },
  {
   "cell_type": "markdown",
   "id": "ad7316c5",
   "metadata": {},
   "source": [
    "### D. Loyalty Frequency Analysis"
   ]
  },
  {
   "cell_type": "code",
   "execution_count": 15,
   "id": "86b89927",
   "metadata": {
    "scrolled": true
   },
   "outputs": [
    {
     "data": {
      "text/html": [
       "<div>\n",
       "<style scoped>\n",
       "    .dataframe tbody tr th:only-of-type {\n",
       "        vertical-align: middle;\n",
       "    }\n",
       "\n",
       "    .dataframe tbody tr th {\n",
       "        vertical-align: top;\n",
       "    }\n",
       "\n",
       "    .dataframe thead tr th {\n",
       "        text-align: left;\n",
       "    }\n",
       "\n",
       "    .dataframe thead tr:last-of-type th {\n",
       "        text-align: right;\n",
       "    }\n",
       "</style>\n",
       "<table border=\"1\" class=\"dataframe\">\n",
       "  <thead>\n",
       "    <tr>\n",
       "      <th></th>\n",
       "      <th colspan=\"3\" halign=\"left\">days_since_prior_order</th>\n",
       "    </tr>\n",
       "    <tr>\n",
       "      <th></th>\n",
       "      <th>mean</th>\n",
       "      <th>max</th>\n",
       "      <th>min</th>\n",
       "    </tr>\n",
       "    <tr>\n",
       "      <th>loyalty_flag</th>\n",
       "      <th></th>\n",
       "      <th></th>\n",
       "      <th></th>\n",
       "    </tr>\n",
       "  </thead>\n",
       "  <tbody>\n",
       "    <tr>\n",
       "      <th>loyal customer</th>\n",
       "      <td>6.026656</td>\n",
       "      <td>30.0</td>\n",
       "      <td>0.0</td>\n",
       "    </tr>\n",
       "    <tr>\n",
       "      <th>new customer</th>\n",
       "      <td>18.199585</td>\n",
       "      <td>30.0</td>\n",
       "      <td>0.0</td>\n",
       "    </tr>\n",
       "    <tr>\n",
       "      <th>regular customer</th>\n",
       "      <td>12.155135</td>\n",
       "      <td>30.0</td>\n",
       "      <td>0.0</td>\n",
       "    </tr>\n",
       "  </tbody>\n",
       "</table>\n",
       "</div>"
      ],
      "text/plain": [
       "                 days_since_prior_order           \n",
       "                                   mean   max  min\n",
       "loyalty_flag                                      \n",
       "loyal customer                 6.026656  30.0  0.0\n",
       "new customer                  18.199585  30.0  0.0\n",
       "regular customer              12.155135  30.0  0.0"
      ]
     },
     "execution_count": 15,
     "metadata": {},
     "output_type": "execute_result"
    }
   ],
   "source": [
    "# mean, min, max frequency for meat/seafood buyers\n",
    "insta_df.groupby('loyalty_flag').agg({'days_since_prior_order': ['mean', 'max', 'min']})"
   ]
  },
  {
   "cell_type": "code",
   "execution_count": 35,
   "id": "dbcb98c5",
   "metadata": {},
   "outputs": [
    {
     "data": {
      "image/png": "[encoded data removed]",
      "text/plain": [
       "<Figure size 640x480 with 1 Axes>"
      ]
     },
     "metadata": {},
     "output_type": "display_data"
    }
   ],
   "source": [
    "# creating bar graph for mean values\n",
    "loyalty_stats = insta_df.groupby('loyalty_flag').agg({'days_since_prior_order': 'mean'})\n",
    "plt.figure()\n",
    "plt.bar(loyalty_stats.index, loyalty_stats['days_since_prior_order'], align='center')\n",
    "plt.xlabel('Customer Loyalty')\n",
    "plt.ylabel('Mean Frequency of Orders (Days)')\n",
    "plt.title('Mean Frequency of Orders for Customer Loyalty')\n",
    "plt.xticks(rotation=0)\n",
    "plt.savefig('/Volumes/external_drive/Instacart/Analysis/loyalty_frequency.png', dpi=300)\n",
    "plt.show()"
   ]
  },
  {
   "cell_type": "markdown",
   "id": "dbd55763",
   "metadata": {},
   "source": [
    "Loyal customers order every 6 days on average, where as new and regular customers respectivley only order every 18 and every 12 days."
   ]
  },
  {
   "cell_type": "markdown",
   "id": "a77be0e4",
   "metadata": {},
   "source": [
    "# 4. Composition Analysis"
   ]
  },
  {
   "cell_type": "markdown",
   "id": "2b1f82c4",
   "metadata": {},
   "source": [
    "### A. Income Tier Composition"
   ]
  },
  {
   "cell_type": "code",
   "execution_count": 51,
   "id": "587dbdaf",
   "metadata": {
    "scrolled": true
   },
   "outputs": [
    {
     "data": {
      "text/html": [
       "<div>\n",
       "<style scoped>\n",
       "    .dataframe tbody tr th:only-of-type {\n",
       "        vertical-align: middle;\n",
       "    }\n",
       "\n",
       "    .dataframe tbody tr th {\n",
       "        vertical-align: top;\n",
       "    }\n",
       "\n",
       "    .dataframe thead th {\n",
       "        text-align: right;\n",
       "    }\n",
       "</style>\n",
       "<table border=\"1\" class=\"dataframe\">\n",
       "  <thead>\n",
       "    <tr style=\"text-align: right;\">\n",
       "      <th>department</th>\n",
       "      <th>alcohol</th>\n",
       "      <th>babies</th>\n",
       "      <th>bakery</th>\n",
       "      <th>beverages</th>\n",
       "      <th>breakfast</th>\n",
       "      <th>bulk</th>\n",
       "      <th>canned goods</th>\n",
       "      <th>dairy eggs</th>\n",
       "      <th>deli</th>\n",
       "      <th>dry goods pasta</th>\n",
       "      <th>frozen</th>\n",
       "      <th>household</th>\n",
       "      <th>international</th>\n",
       "      <th>meat seafood</th>\n",
       "      <th>missing</th>\n",
       "      <th>other</th>\n",
       "      <th>pantry</th>\n",
       "      <th>personal care</th>\n",
       "      <th>pets</th>\n",
       "      <th>produce</th>\n",
       "      <th>snacks</th>\n",
       "    </tr>\n",
       "    <tr>\n",
       "      <th>income_tier</th>\n",
       "      <th></th>\n",
       "      <th></th>\n",
       "      <th></th>\n",
       "      <th></th>\n",
       "      <th></th>\n",
       "      <th></th>\n",
       "      <th></th>\n",
       "      <th></th>\n",
       "      <th></th>\n",
       "      <th></th>\n",
       "      <th></th>\n",
       "      <th></th>\n",
       "      <th></th>\n",
       "      <th></th>\n",
       "      <th></th>\n",
       "      <th></th>\n",
       "      <th></th>\n",
       "      <th></th>\n",
       "      <th></th>\n",
       "      <th></th>\n",
       "      <th></th>\n",
       "    </tr>\n",
       "  </thead>\n",
       "  <tbody>\n",
       "    <tr>\n",
       "      <th>lower-income</th>\n",
       "      <td>0.58%</td>\n",
       "      <td>0.89%</td>\n",
       "      <td>3.38%</td>\n",
       "      <td>11.35%</td>\n",
       "      <td>2.91%</td>\n",
       "      <td>0.15%</td>\n",
       "      <td>2.52%</td>\n",
       "      <td>16.12%</td>\n",
       "      <td>3.26%</td>\n",
       "      <td>1.98%</td>\n",
       "      <td>6.83%</td>\n",
       "      <td>2.71%</td>\n",
       "      <td>0.68%</td>\n",
       "      <td>2.29%</td>\n",
       "      <td>0.24%</td>\n",
       "      <td>0.11%</td>\n",
       "      <td>5.55%</td>\n",
       "      <td>1.61%</td>\n",
       "      <td>0.27%</td>\n",
       "      <td>26.14%</td>\n",
       "      <td>10.43%</td>\n",
       "    </tr>\n",
       "    <tr>\n",
       "      <th>middle-income</th>\n",
       "      <td>0.46%</td>\n",
       "      <td>1.32%</td>\n",
       "      <td>3.66%</td>\n",
       "      <td>7.85%</td>\n",
       "      <td>2.16%</td>\n",
       "      <td>0.11%</td>\n",
       "      <td>3.25%</td>\n",
       "      <td>17.99%</td>\n",
       "      <td>3.24%</td>\n",
       "      <td>2.58%</td>\n",
       "      <td>6.83%</td>\n",
       "      <td>2.08%</td>\n",
       "      <td>0.83%</td>\n",
       "      <td>4.79%</td>\n",
       "      <td>0.24%</td>\n",
       "      <td>0.1%</td>\n",
       "      <td>5.98%</td>\n",
       "      <td>1.4%</td>\n",
       "      <td>0.3%</td>\n",
       "      <td>30.45%</td>\n",
       "      <td>4.38%</td>\n",
       "    </tr>\n",
       "    <tr>\n",
       "      <th>upper-income</th>\n",
       "      <td>0.61%</td>\n",
       "      <td>1.32%</td>\n",
       "      <td>3.75%</td>\n",
       "      <td>7.94%</td>\n",
       "      <td>2.2%</td>\n",
       "      <td>0.1%</td>\n",
       "      <td>3.27%</td>\n",
       "      <td>18.05%</td>\n",
       "      <td>3.21%</td>\n",
       "      <td>2.56%</td>\n",
       "      <td>6.96%</td>\n",
       "      <td>2.24%</td>\n",
       "      <td>0.83%</td>\n",
       "      <td>4.86%</td>\n",
       "      <td>0.24%</td>\n",
       "      <td>0.11%</td>\n",
       "      <td>6.02%</td>\n",
       "      <td>1.41%</td>\n",
       "      <td>0.33%</td>\n",
       "      <td>29.78%</td>\n",
       "      <td>4.21%</td>\n",
       "    </tr>\n",
       "  </tbody>\n",
       "</table>\n",
       "</div>"
      ],
      "text/plain": [
       "department    alcohol babies bakery beverages breakfast   bulk canned goods  \\\n",
       "income_tier                                                                   \n",
       "lower-income    0.58%  0.89%  3.38%    11.35%     2.91%  0.15%        2.52%   \n",
       "middle-income   0.46%  1.32%  3.66%     7.85%     2.16%  0.11%        3.25%   \n",
       "upper-income    0.61%  1.32%  3.75%     7.94%      2.2%   0.1%        3.27%   \n",
       "\n",
       "department    dairy eggs   deli dry goods pasta frozen household  \\\n",
       "income_tier                                                        \n",
       "lower-income      16.12%  3.26%           1.98%  6.83%     2.71%   \n",
       "middle-income     17.99%  3.24%           2.58%  6.83%     2.08%   \n",
       "upper-income      18.05%  3.21%           2.56%  6.96%     2.24%   \n",
       "\n",
       "department    international meat seafood missing  other pantry personal care  \\\n",
       "income_tier                                                                    \n",
       "lower-income          0.68%        2.29%   0.24%  0.11%  5.55%         1.61%   \n",
       "middle-income         0.83%        4.79%   0.24%   0.1%  5.98%          1.4%   \n",
       "upper-income          0.83%        4.86%   0.24%  0.11%  6.02%         1.41%   \n",
       "\n",
       "department      pets produce  snacks  \n",
       "income_tier                           \n",
       "lower-income   0.27%  26.14%  10.43%  \n",
       "middle-income   0.3%  30.45%   4.38%  \n",
       "upper-income   0.33%  29.78%   4.21%  "
      ]
     },
     "execution_count": 51,
     "metadata": {},
     "output_type": "execute_result"
    }
   ],
   "source": [
    "# which departments contribute the most and the least to the total value of purchases within each income tier.\n",
    "\n",
    "income_cross_tab = pd.crosstab(insta_df['income_tier'], insta_df['department'], values=insta_df['prices'], aggfunc='sum', normalize='index') * 100\n",
    "income_cross_tab = income_cross_tab.round(2).astype(str) + '%'\n",
    "income_cross_tab"
   ]
  },
  {
   "cell_type": "markdown",
   "id": "62cea23e",
   "metadata": {},
   "source": [
    "Notably, snacks and beverages account for a larger portion of sales for lower-income customers. Snacks account for 10% of spend for lower-income customers and only 4% of spend for middle and upper-income customers. Beverages account for 11% of spend for lower-income customers and only 8% of spend for middle and upper-income customers"
   ]
  },
  {
   "cell_type": "markdown",
   "id": "ee0c3bbe",
   "metadata": {},
   "source": [
    "### B. Family Profile Composition"
   ]
  },
  {
   "cell_type": "code",
   "execution_count": 50,
   "id": "d733674c",
   "metadata": {
    "scrolled": true
   },
   "outputs": [
    {
     "data": {
      "text/html": [
       "<div>\n",
       "<style scoped>\n",
       "    .dataframe tbody tr th:only-of-type {\n",
       "        vertical-align: middle;\n",
       "    }\n",
       "\n",
       "    .dataframe tbody tr th {\n",
       "        vertical-align: top;\n",
       "    }\n",
       "\n",
       "    .dataframe thead th {\n",
       "        text-align: right;\n",
       "    }\n",
       "</style>\n",
       "<table border=\"1\" class=\"dataframe\">\n",
       "  <thead>\n",
       "    <tr style=\"text-align: right;\">\n",
       "      <th>department</th>\n",
       "      <th>alcohol</th>\n",
       "      <th>babies</th>\n",
       "      <th>bakery</th>\n",
       "      <th>beverages</th>\n",
       "      <th>breakfast</th>\n",
       "      <th>bulk</th>\n",
       "      <th>canned goods</th>\n",
       "      <th>dairy eggs</th>\n",
       "      <th>deli</th>\n",
       "      <th>dry goods pasta</th>\n",
       "      <th>frozen</th>\n",
       "      <th>household</th>\n",
       "      <th>international</th>\n",
       "      <th>meat seafood</th>\n",
       "      <th>missing</th>\n",
       "      <th>other</th>\n",
       "      <th>pantry</th>\n",
       "      <th>personal care</th>\n",
       "      <th>pets</th>\n",
       "      <th>produce</th>\n",
       "      <th>snacks</th>\n",
       "    </tr>\n",
       "    <tr>\n",
       "      <th>family_profile</th>\n",
       "      <th></th>\n",
       "      <th></th>\n",
       "      <th></th>\n",
       "      <th></th>\n",
       "      <th></th>\n",
       "      <th></th>\n",
       "      <th></th>\n",
       "      <th></th>\n",
       "      <th></th>\n",
       "      <th></th>\n",
       "      <th></th>\n",
       "      <th></th>\n",
       "      <th></th>\n",
       "      <th></th>\n",
       "      <th></th>\n",
       "      <th></th>\n",
       "      <th></th>\n",
       "      <th></th>\n",
       "      <th></th>\n",
       "      <th></th>\n",
       "      <th></th>\n",
       "    </tr>\n",
       "  </thead>\n",
       "  <tbody>\n",
       "    <tr>\n",
       "      <th>married, children</th>\n",
       "      <td>0.49%</td>\n",
       "      <td>1.3%</td>\n",
       "      <td>3.63%</td>\n",
       "      <td>8.19%</td>\n",
       "      <td>2.22%</td>\n",
       "      <td>0.11%</td>\n",
       "      <td>3.2%</td>\n",
       "      <td>17.77%</td>\n",
       "      <td>3.23%</td>\n",
       "      <td>2.53%</td>\n",
       "      <td>6.87%</td>\n",
       "      <td>2.18%</td>\n",
       "      <td>0.81%</td>\n",
       "      <td>4.61%</td>\n",
       "      <td>0.24%</td>\n",
       "      <td>0.1%</td>\n",
       "      <td>5.95%</td>\n",
       "      <td>1.41%</td>\n",
       "      <td>0.3%</td>\n",
       "      <td>29.96%</td>\n",
       "      <td>4.9%</td>\n",
       "    </tr>\n",
       "    <tr>\n",
       "      <th>married, no children</th>\n",
       "      <td>0.49%</td>\n",
       "      <td>1.24%</td>\n",
       "      <td>3.66%</td>\n",
       "      <td>8.17%</td>\n",
       "      <td>2.26%</td>\n",
       "      <td>0.12%</td>\n",
       "      <td>3.2%</td>\n",
       "      <td>17.9%</td>\n",
       "      <td>3.21%</td>\n",
       "      <td>2.52%</td>\n",
       "      <td>6.81%</td>\n",
       "      <td>2.18%</td>\n",
       "      <td>0.83%</td>\n",
       "      <td>4.6%</td>\n",
       "      <td>0.24%</td>\n",
       "      <td>0.1%</td>\n",
       "      <td>5.97%</td>\n",
       "      <td>1.42%</td>\n",
       "      <td>0.3%</td>\n",
       "      <td>29.89%</td>\n",
       "      <td>4.89%</td>\n",
       "    </tr>\n",
       "    <tr>\n",
       "      <th>single, children</th>\n",
       "      <td>0.61%</td>\n",
       "      <td>1.29%</td>\n",
       "      <td>3.67%</td>\n",
       "      <td>7.92%</td>\n",
       "      <td>2.3%</td>\n",
       "      <td>0.12%</td>\n",
       "      <td>3.18%</td>\n",
       "      <td>18.01%</td>\n",
       "      <td>3.25%</td>\n",
       "      <td>2.54%</td>\n",
       "      <td>6.9%</td>\n",
       "      <td>2.15%</td>\n",
       "      <td>0.81%</td>\n",
       "      <td>4.57%</td>\n",
       "      <td>0.25%</td>\n",
       "      <td>0.11%</td>\n",
       "      <td>5.98%</td>\n",
       "      <td>1.4%</td>\n",
       "      <td>0.37%</td>\n",
       "      <td>29.74%</td>\n",
       "      <td>4.84%</td>\n",
       "    </tr>\n",
       "    <tr>\n",
       "      <th>single, no children</th>\n",
       "      <td>0.5%</td>\n",
       "      <td>1.28%</td>\n",
       "      <td>3.65%</td>\n",
       "      <td>8.2%</td>\n",
       "      <td>2.23%</td>\n",
       "      <td>0.11%</td>\n",
       "      <td>3.16%</td>\n",
       "      <td>17.86%</td>\n",
       "      <td>3.28%</td>\n",
       "      <td>2.51%</td>\n",
       "      <td>6.84%</td>\n",
       "      <td>2.11%</td>\n",
       "      <td>0.82%</td>\n",
       "      <td>4.49%</td>\n",
       "      <td>0.24%</td>\n",
       "      <td>0.1%</td>\n",
       "      <td>5.93%</td>\n",
       "      <td>1.42%</td>\n",
       "      <td>0.31%</td>\n",
       "      <td>30.09%</td>\n",
       "      <td>4.88%</td>\n",
       "    </tr>\n",
       "  </tbody>\n",
       "</table>\n",
       "</div>"
      ],
      "text/plain": [
       "department           alcohol babies bakery beverages breakfast   bulk  \\\n",
       "family_profile                                                          \n",
       "married, children      0.49%   1.3%  3.63%     8.19%     2.22%  0.11%   \n",
       "married, no children   0.49%  1.24%  3.66%     8.17%     2.26%  0.12%   \n",
       "single, children       0.61%  1.29%  3.67%     7.92%      2.3%  0.12%   \n",
       "single, no children     0.5%  1.28%  3.65%      8.2%     2.23%  0.11%   \n",
       "\n",
       "department           canned goods dairy eggs   deli dry goods pasta frozen  \\\n",
       "family_profile                                                               \n",
       "married, children            3.2%     17.77%  3.23%           2.53%  6.87%   \n",
       "married, no children         3.2%      17.9%  3.21%           2.52%  6.81%   \n",
       "single, children            3.18%     18.01%  3.25%           2.54%   6.9%   \n",
       "single, no children         3.16%     17.86%  3.28%           2.51%  6.84%   \n",
       "\n",
       "department           household international meat seafood missing  other  \\\n",
       "family_profile                                                             \n",
       "married, children        2.18%         0.81%        4.61%   0.24%   0.1%   \n",
       "married, no children     2.18%         0.83%         4.6%   0.24%   0.1%   \n",
       "single, children         2.15%         0.81%        4.57%   0.25%  0.11%   \n",
       "single, no children      2.11%         0.82%        4.49%   0.24%   0.1%   \n",
       "\n",
       "department           pantry personal care   pets produce snacks  \n",
       "family_profile                                                   \n",
       "married, children     5.95%         1.41%   0.3%  29.96%   4.9%  \n",
       "married, no children  5.97%         1.42%   0.3%  29.89%  4.89%  \n",
       "single, children      5.98%          1.4%  0.37%  29.74%  4.84%  \n",
       "single, no children   5.93%         1.42%  0.31%  30.09%  4.88%  "
      ]
     },
     "execution_count": 50,
     "metadata": {},
     "output_type": "execute_result"
    }
   ],
   "source": [
    "# which departments contribute the most and the least to the total value of purchases within each family profile.\n",
    "\n",
    "family_cross_tab = pd.crosstab(insta_df['family_profile'], insta_df['department'], values=insta_df['prices'], aggfunc='sum', normalize='index') * 100\n",
    "family_cross_tab = family_cross_tab.round(2).astype(str) + '%'\n",
    "family_cross_tab"
   ]
  },
  {
   "cell_type": "markdown",
   "id": "054b0d48",
   "metadata": {},
   "source": [
    "There is no significant difference in the department composition of orders for the different family profiles."
   ]
  },
  {
   "cell_type": "markdown",
   "id": "e6f7ef2a",
   "metadata": {},
   "source": [
    "### C. Age Group Composition"
   ]
  },
  {
   "cell_type": "code",
   "execution_count": 49,
   "id": "1504e6c4",
   "metadata": {
    "scrolled": true
   },
   "outputs": [
    {
     "data": {
      "text/html": [
       "<div>\n",
       "<style scoped>\n",
       "    .dataframe tbody tr th:only-of-type {\n",
       "        vertical-align: middle;\n",
       "    }\n",
       "\n",
       "    .dataframe tbody tr th {\n",
       "        vertical-align: top;\n",
       "    }\n",
       "\n",
       "    .dataframe thead th {\n",
       "        text-align: right;\n",
       "    }\n",
       "</style>\n",
       "<table border=\"1\" class=\"dataframe\">\n",
       "  <thead>\n",
       "    <tr style=\"text-align: right;\">\n",
       "      <th>department</th>\n",
       "      <th>alcohol</th>\n",
       "      <th>babies</th>\n",
       "      <th>bakery</th>\n",
       "      <th>beverages</th>\n",
       "      <th>breakfast</th>\n",
       "      <th>bulk</th>\n",
       "      <th>canned goods</th>\n",
       "      <th>dairy eggs</th>\n",
       "      <th>deli</th>\n",
       "      <th>dry goods pasta</th>\n",
       "      <th>frozen</th>\n",
       "      <th>household</th>\n",
       "      <th>international</th>\n",
       "      <th>meat seafood</th>\n",
       "      <th>missing</th>\n",
       "      <th>other</th>\n",
       "      <th>pantry</th>\n",
       "      <th>personal care</th>\n",
       "      <th>pets</th>\n",
       "      <th>produce</th>\n",
       "      <th>snacks</th>\n",
       "    </tr>\n",
       "    <tr>\n",
       "      <th>age_group</th>\n",
       "      <th></th>\n",
       "      <th></th>\n",
       "      <th></th>\n",
       "      <th></th>\n",
       "      <th></th>\n",
       "      <th></th>\n",
       "      <th></th>\n",
       "      <th></th>\n",
       "      <th></th>\n",
       "      <th></th>\n",
       "      <th></th>\n",
       "      <th></th>\n",
       "      <th></th>\n",
       "      <th></th>\n",
       "      <th></th>\n",
       "      <th></th>\n",
       "      <th></th>\n",
       "      <th></th>\n",
       "      <th></th>\n",
       "      <th></th>\n",
       "      <th></th>\n",
       "    </tr>\n",
       "  </thead>\n",
       "  <tbody>\n",
       "    <tr>\n",
       "      <th>18-24</th>\n",
       "      <td>0.54%</td>\n",
       "      <td>1.31%</td>\n",
       "      <td>3.66%</td>\n",
       "      <td>8.04%</td>\n",
       "      <td>2.27%</td>\n",
       "      <td>0.12%</td>\n",
       "      <td>3.19%</td>\n",
       "      <td>17.91%</td>\n",
       "      <td>3.21%</td>\n",
       "      <td>2.55%</td>\n",
       "      <td>6.84%</td>\n",
       "      <td>2.15%</td>\n",
       "      <td>0.81%</td>\n",
       "      <td>4.61%</td>\n",
       "      <td>0.25%</td>\n",
       "      <td>0.1%</td>\n",
       "      <td>5.94%</td>\n",
       "      <td>1.4%</td>\n",
       "      <td>0.34%</td>\n",
       "      <td>29.9%</td>\n",
       "      <td>4.87%</td>\n",
       "    </tr>\n",
       "    <tr>\n",
       "      <th>25-34</th>\n",
       "      <td>0.5%</td>\n",
       "      <td>1.24%</td>\n",
       "      <td>3.65%</td>\n",
       "      <td>8.15%</td>\n",
       "      <td>2.25%</td>\n",
       "      <td>0.12%</td>\n",
       "      <td>3.22%</td>\n",
       "      <td>17.96%</td>\n",
       "      <td>3.23%</td>\n",
       "      <td>2.52%</td>\n",
       "      <td>6.79%</td>\n",
       "      <td>2.12%</td>\n",
       "      <td>0.84%</td>\n",
       "      <td>4.52%</td>\n",
       "      <td>0.24%</td>\n",
       "      <td>0.1%</td>\n",
       "      <td>5.96%</td>\n",
       "      <td>1.41%</td>\n",
       "      <td>0.3%</td>\n",
       "      <td>29.93%</td>\n",
       "      <td>4.95%</td>\n",
       "    </tr>\n",
       "    <tr>\n",
       "      <th>35-44</th>\n",
       "      <td>0.47%</td>\n",
       "      <td>1.34%</td>\n",
       "      <td>3.64%</td>\n",
       "      <td>8.06%</td>\n",
       "      <td>2.21%</td>\n",
       "      <td>0.12%</td>\n",
       "      <td>3.19%</td>\n",
       "      <td>17.86%</td>\n",
       "      <td>3.27%</td>\n",
       "      <td>2.52%</td>\n",
       "      <td>6.81%</td>\n",
       "      <td>2.19%</td>\n",
       "      <td>0.82%</td>\n",
       "      <td>4.55%</td>\n",
       "      <td>0.23%</td>\n",
       "      <td>0.1%</td>\n",
       "      <td>5.91%</td>\n",
       "      <td>1.42%</td>\n",
       "      <td>0.3%</td>\n",
       "      <td>30.15%</td>\n",
       "      <td>4.86%</td>\n",
       "    </tr>\n",
       "    <tr>\n",
       "      <th>45-54</th>\n",
       "      <td>0.52%</td>\n",
       "      <td>1.32%</td>\n",
       "      <td>3.64%</td>\n",
       "      <td>8.25%</td>\n",
       "      <td>2.26%</td>\n",
       "      <td>0.11%</td>\n",
       "      <td>3.18%</td>\n",
       "      <td>17.79%</td>\n",
       "      <td>3.21%</td>\n",
       "      <td>2.53%</td>\n",
       "      <td>6.92%</td>\n",
       "      <td>2.16%</td>\n",
       "      <td>0.82%</td>\n",
       "      <td>4.54%</td>\n",
       "      <td>0.25%</td>\n",
       "      <td>0.1%</td>\n",
       "      <td>5.96%</td>\n",
       "      <td>1.44%</td>\n",
       "      <td>0.28%</td>\n",
       "      <td>29.8%</td>\n",
       "      <td>4.9%</td>\n",
       "    </tr>\n",
       "    <tr>\n",
       "      <th>55-64</th>\n",
       "      <td>0.49%</td>\n",
       "      <td>1.25%</td>\n",
       "      <td>3.65%</td>\n",
       "      <td>8.27%</td>\n",
       "      <td>2.25%</td>\n",
       "      <td>0.11%</td>\n",
       "      <td>3.18%</td>\n",
       "      <td>17.71%</td>\n",
       "      <td>3.28%</td>\n",
       "      <td>2.53%</td>\n",
       "      <td>6.86%</td>\n",
       "      <td>2.16%</td>\n",
       "      <td>0.81%</td>\n",
       "      <td>4.57%</td>\n",
       "      <td>0.23%</td>\n",
       "      <td>0.1%</td>\n",
       "      <td>5.97%</td>\n",
       "      <td>1.44%</td>\n",
       "      <td>0.3%</td>\n",
       "      <td>29.95%</td>\n",
       "      <td>4.9%</td>\n",
       "    </tr>\n",
       "    <tr>\n",
       "      <th>65+</th>\n",
       "      <td>0.48%</td>\n",
       "      <td>1.25%</td>\n",
       "      <td>3.64%</td>\n",
       "      <td>8.22%</td>\n",
       "      <td>2.2%</td>\n",
       "      <td>0.12%</td>\n",
       "      <td>3.19%</td>\n",
       "      <td>17.81%</td>\n",
       "      <td>3.23%</td>\n",
       "      <td>2.51%</td>\n",
       "      <td>6.86%</td>\n",
       "      <td>2.17%</td>\n",
       "      <td>0.82%</td>\n",
       "      <td>4.63%</td>\n",
       "      <td>0.24%</td>\n",
       "      <td>0.1%</td>\n",
       "      <td>5.95%</td>\n",
       "      <td>1.41%</td>\n",
       "      <td>0.31%</td>\n",
       "      <td>30.01%</td>\n",
       "      <td>4.86%</td>\n",
       "    </tr>\n",
       "  </tbody>\n",
       "</table>\n",
       "</div>"
      ],
      "text/plain": [
       "department alcohol babies bakery beverages breakfast   bulk canned goods  \\\n",
       "age_group                                                                  \n",
       "18-24        0.54%  1.31%  3.66%     8.04%     2.27%  0.12%        3.19%   \n",
       "25-34         0.5%  1.24%  3.65%     8.15%     2.25%  0.12%        3.22%   \n",
       "35-44        0.47%  1.34%  3.64%     8.06%     2.21%  0.12%        3.19%   \n",
       "45-54        0.52%  1.32%  3.64%     8.25%     2.26%  0.11%        3.18%   \n",
       "55-64        0.49%  1.25%  3.65%     8.27%     2.25%  0.11%        3.18%   \n",
       "65+          0.48%  1.25%  3.64%     8.22%      2.2%  0.12%        3.19%   \n",
       "\n",
       "department dairy eggs   deli dry goods pasta frozen household international  \\\n",
       "age_group                                                                     \n",
       "18-24          17.91%  3.21%           2.55%  6.84%     2.15%         0.81%   \n",
       "25-34          17.96%  3.23%           2.52%  6.79%     2.12%         0.84%   \n",
       "35-44          17.86%  3.27%           2.52%  6.81%     2.19%         0.82%   \n",
       "45-54          17.79%  3.21%           2.53%  6.92%     2.16%         0.82%   \n",
       "55-64          17.71%  3.28%           2.53%  6.86%     2.16%         0.81%   \n",
       "65+            17.81%  3.23%           2.51%  6.86%     2.17%         0.82%   \n",
       "\n",
       "department meat seafood missing other pantry personal care   pets produce  \\\n",
       "age_group                                                                   \n",
       "18-24             4.61%   0.25%  0.1%  5.94%          1.4%  0.34%   29.9%   \n",
       "25-34             4.52%   0.24%  0.1%  5.96%         1.41%   0.3%  29.93%   \n",
       "35-44             4.55%   0.23%  0.1%  5.91%         1.42%   0.3%  30.15%   \n",
       "45-54             4.54%   0.25%  0.1%  5.96%         1.44%  0.28%   29.8%   \n",
       "55-64             4.57%   0.23%  0.1%  5.97%         1.44%   0.3%  29.95%   \n",
       "65+               4.63%   0.24%  0.1%  5.95%         1.41%  0.31%  30.01%   \n",
       "\n",
       "department snacks  \n",
       "age_group          \n",
       "18-24       4.87%  \n",
       "25-34       4.95%  \n",
       "35-44       4.86%  \n",
       "45-54        4.9%  \n",
       "55-64        4.9%  \n",
       "65+         4.86%  "
      ]
     },
     "execution_count": 49,
     "metadata": {},
     "output_type": "execute_result"
    }
   ],
   "source": [
    "# which departments contribute the most and the least to the total value of purchases within each age group.\n",
    "\n",
    "age_cross_tab = pd.crosstab(insta_df['age_group'], insta_df['department'], values=insta_df['prices'], aggfunc='sum', normalize='index') * 100\n",
    "age_cross_tab = age_cross_tab.round(2).astype(str) + '%'\n",
    "age_cross_tab"
   ]
  },
  {
   "cell_type": "markdown",
   "id": "294a8681",
   "metadata": {},
   "source": [
    "There is no significant difference in the department composition of orders for the different age groups."
   ]
  },
  {
   "cell_type": "markdown",
   "id": "400f8aff",
   "metadata": {},
   "source": [
    "### D. Meat/Seafood Buyer Composition"
   ]
  },
  {
   "cell_type": "code",
   "execution_count": 48,
   "id": "30b5e527",
   "metadata": {
    "scrolled": true
   },
   "outputs": [
    {
     "data": {
      "text/html": [
       "<div>\n",
       "<style scoped>\n",
       "    .dataframe tbody tr th:only-of-type {\n",
       "        vertical-align: middle;\n",
       "    }\n",
       "\n",
       "    .dataframe tbody tr th {\n",
       "        vertical-align: top;\n",
       "    }\n",
       "\n",
       "    .dataframe thead th {\n",
       "        text-align: right;\n",
       "    }\n",
       "</style>\n",
       "<table border=\"1\" class=\"dataframe\">\n",
       "  <thead>\n",
       "    <tr style=\"text-align: right;\">\n",
       "      <th>department</th>\n",
       "      <th>alcohol</th>\n",
       "      <th>babies</th>\n",
       "      <th>bakery</th>\n",
       "      <th>beverages</th>\n",
       "      <th>breakfast</th>\n",
       "      <th>bulk</th>\n",
       "      <th>canned goods</th>\n",
       "      <th>dairy eggs</th>\n",
       "      <th>deli</th>\n",
       "      <th>dry goods pasta</th>\n",
       "      <th>frozen</th>\n",
       "      <th>household</th>\n",
       "      <th>international</th>\n",
       "      <th>meat seafood</th>\n",
       "      <th>missing</th>\n",
       "      <th>other</th>\n",
       "      <th>pantry</th>\n",
       "      <th>personal care</th>\n",
       "      <th>pets</th>\n",
       "      <th>produce</th>\n",
       "      <th>snacks</th>\n",
       "    </tr>\n",
       "    <tr>\n",
       "      <th>meat_seafood_flag</th>\n",
       "      <th></th>\n",
       "      <th></th>\n",
       "      <th></th>\n",
       "      <th></th>\n",
       "      <th></th>\n",
       "      <th></th>\n",
       "      <th></th>\n",
       "      <th></th>\n",
       "      <th></th>\n",
       "      <th></th>\n",
       "      <th></th>\n",
       "      <th></th>\n",
       "      <th></th>\n",
       "      <th></th>\n",
       "      <th></th>\n",
       "      <th></th>\n",
       "      <th></th>\n",
       "      <th></th>\n",
       "      <th></th>\n",
       "      <th></th>\n",
       "      <th></th>\n",
       "    </tr>\n",
       "  </thead>\n",
       "  <tbody>\n",
       "    <tr>\n",
       "      <th>meat/seafood buyer</th>\n",
       "      <td>0.36%</td>\n",
       "      <td>1.4%</td>\n",
       "      <td>3.73%</td>\n",
       "      <td>6.97%</td>\n",
       "      <td>2.05%</td>\n",
       "      <td>0.1%</td>\n",
       "      <td>3.38%</td>\n",
       "      <td>17.59%</td>\n",
       "      <td>3.23%</td>\n",
       "      <td>2.72%</td>\n",
       "      <td>6.85%</td>\n",
       "      <td>1.92%</td>\n",
       "      <td>0.85%</td>\n",
       "      <td>6.15%</td>\n",
       "      <td>0.23%</td>\n",
       "      <td>0.09%</td>\n",
       "      <td>6.02%</td>\n",
       "      <td>1.27%</td>\n",
       "      <td>0.3%</td>\n",
       "      <td>30.49%</td>\n",
       "      <td>4.31%</td>\n",
       "    </tr>\n",
       "    <tr>\n",
       "      <th>non-meat/seafood buyer</th>\n",
       "      <td>0.9%</td>\n",
       "      <td>0.95%</td>\n",
       "      <td>3.42%</td>\n",
       "      <td>11.69%</td>\n",
       "      <td>2.78%</td>\n",
       "      <td>0.15%</td>\n",
       "      <td>2.63%</td>\n",
       "      <td>18.54%</td>\n",
       "      <td>3.25%</td>\n",
       "      <td>1.96%</td>\n",
       "      <td>6.83%</td>\n",
       "      <td>2.85%</td>\n",
       "      <td>0.74%</td>\n",
       "      <td>0.0%</td>\n",
       "      <td>0.26%</td>\n",
       "      <td>0.13%</td>\n",
       "      <td>5.73%</td>\n",
       "      <td>1.85%</td>\n",
       "      <td>0.32%</td>\n",
       "      <td>28.45%</td>\n",
       "      <td>6.58%</td>\n",
       "    </tr>\n",
       "  </tbody>\n",
       "</table>\n",
       "</div>"
      ],
      "text/plain": [
       "department             alcohol babies bakery beverages breakfast   bulk  \\\n",
       "meat_seafood_flag                                                         \n",
       "meat/seafood buyer       0.36%   1.4%  3.73%     6.97%     2.05%   0.1%   \n",
       "non-meat/seafood buyer    0.9%  0.95%  3.42%    11.69%     2.78%  0.15%   \n",
       "\n",
       "department             canned goods dairy eggs   deli dry goods pasta frozen  \\\n",
       "meat_seafood_flag                                                              \n",
       "meat/seafood buyer            3.38%     17.59%  3.23%           2.72%  6.85%   \n",
       "non-meat/seafood buyer        2.63%     18.54%  3.25%           1.96%  6.83%   \n",
       "\n",
       "department             household international meat seafood missing  other  \\\n",
       "meat_seafood_flag                                                            \n",
       "meat/seafood buyer         1.92%         0.85%        6.15%   0.23%  0.09%   \n",
       "non-meat/seafood buyer     2.85%         0.74%         0.0%   0.26%  0.13%   \n",
       "\n",
       "department             pantry personal care   pets produce snacks  \n",
       "meat_seafood_flag                                                  \n",
       "meat/seafood buyer      6.02%         1.27%   0.3%  30.49%  4.31%  \n",
       "non-meat/seafood buyer  5.73%         1.85%  0.32%  28.45%  6.58%  "
      ]
     },
     "execution_count": 48,
     "metadata": {},
     "output_type": "execute_result"
    }
   ],
   "source": [
    "# which departments contribute the most and the least to the total value of purchases for meat/seafood buyers.\n",
    "\n",
    "meat_cross_tab = pd.crosstab(insta_df['meat_seafood_flag'], insta_df['department'], values=insta_df['prices'], aggfunc='sum', normalize='index') * 100\n",
    "meat_cross_tab = meat_cross_tab.round(2).astype(str) + '%'\n",
    "meat_cross_tab"
   ]
  },
  {
   "cell_type": "markdown",
   "id": "99a53a02",
   "metadata": {},
   "source": [
    "Beverages account for a larger portion of customer spend for non-meat/seafood buyers. Beverages account for 12% of customer spend for non-meat/seafood buyers and only 7% for meat/seafood buyers."
   ]
  },
  {
   "cell_type": "markdown",
   "id": "14a047fa",
   "metadata": {},
   "source": [
    "### D. Region Composition"
   ]
  },
  {
   "cell_type": "code",
   "execution_count": 52,
   "id": "4cb1a225",
   "metadata": {},
   "outputs": [
    {
     "data": {
      "text/html": [
       "<div>\n",
       "<style scoped>\n",
       "    .dataframe tbody tr th:only-of-type {\n",
       "        vertical-align: middle;\n",
       "    }\n",
       "\n",
       "    .dataframe tbody tr th {\n",
       "        vertical-align: top;\n",
       "    }\n",
       "\n",
       "    .dataframe thead th {\n",
       "        text-align: right;\n",
       "    }\n",
       "</style>\n",
       "<table border=\"1\" class=\"dataframe\">\n",
       "  <thead>\n",
       "    <tr style=\"text-align: right;\">\n",
       "      <th>department</th>\n",
       "      <th>alcohol</th>\n",
       "      <th>babies</th>\n",
       "      <th>bakery</th>\n",
       "      <th>beverages</th>\n",
       "      <th>breakfast</th>\n",
       "      <th>bulk</th>\n",
       "      <th>canned goods</th>\n",
       "      <th>dairy eggs</th>\n",
       "      <th>deli</th>\n",
       "      <th>dry goods pasta</th>\n",
       "      <th>frozen</th>\n",
       "      <th>household</th>\n",
       "      <th>international</th>\n",
       "      <th>meat seafood</th>\n",
       "      <th>missing</th>\n",
       "      <th>other</th>\n",
       "      <th>pantry</th>\n",
       "      <th>personal care</th>\n",
       "      <th>pets</th>\n",
       "      <th>produce</th>\n",
       "      <th>snacks</th>\n",
       "    </tr>\n",
       "    <tr>\n",
       "      <th>region</th>\n",
       "      <th></th>\n",
       "      <th></th>\n",
       "      <th></th>\n",
       "      <th></th>\n",
       "      <th></th>\n",
       "      <th></th>\n",
       "      <th></th>\n",
       "      <th></th>\n",
       "      <th></th>\n",
       "      <th></th>\n",
       "      <th></th>\n",
       "      <th></th>\n",
       "      <th></th>\n",
       "      <th></th>\n",
       "      <th></th>\n",
       "      <th></th>\n",
       "      <th></th>\n",
       "      <th></th>\n",
       "      <th></th>\n",
       "      <th></th>\n",
       "      <th></th>\n",
       "    </tr>\n",
       "  </thead>\n",
       "  <tbody>\n",
       "    <tr>\n",
       "      <th>midwest</th>\n",
       "      <td>0.5%</td>\n",
       "      <td>1.27%</td>\n",
       "      <td>3.64%</td>\n",
       "      <td>8.12%</td>\n",
       "      <td>2.22%</td>\n",
       "      <td>0.12%</td>\n",
       "      <td>3.19%</td>\n",
       "      <td>17.81%</td>\n",
       "      <td>3.24%</td>\n",
       "      <td>2.54%</td>\n",
       "      <td>6.84%</td>\n",
       "      <td>2.19%</td>\n",
       "      <td>0.82%</td>\n",
       "      <td>4.56%</td>\n",
       "      <td>0.24%</td>\n",
       "      <td>0.1%</td>\n",
       "      <td>5.98%</td>\n",
       "      <td>1.43%</td>\n",
       "      <td>0.3%</td>\n",
       "      <td>30.04%</td>\n",
       "      <td>4.86%</td>\n",
       "    </tr>\n",
       "    <tr>\n",
       "      <th>northeast</th>\n",
       "      <td>0.48%</td>\n",
       "      <td>1.29%</td>\n",
       "      <td>3.68%</td>\n",
       "      <td>8.34%</td>\n",
       "      <td>2.22%</td>\n",
       "      <td>0.11%</td>\n",
       "      <td>3.15%</td>\n",
       "      <td>17.87%</td>\n",
       "      <td>3.26%</td>\n",
       "      <td>2.5%</td>\n",
       "      <td>6.79%</td>\n",
       "      <td>2.18%</td>\n",
       "      <td>0.81%</td>\n",
       "      <td>4.55%</td>\n",
       "      <td>0.24%</td>\n",
       "      <td>0.1%</td>\n",
       "      <td>5.92%</td>\n",
       "      <td>1.41%</td>\n",
       "      <td>0.33%</td>\n",
       "      <td>29.84%</td>\n",
       "      <td>4.93%</td>\n",
       "    </tr>\n",
       "    <tr>\n",
       "      <th>south</th>\n",
       "      <td>0.5%</td>\n",
       "      <td>1.31%</td>\n",
       "      <td>3.63%</td>\n",
       "      <td>8.21%</td>\n",
       "      <td>2.24%</td>\n",
       "      <td>0.11%</td>\n",
       "      <td>3.2%</td>\n",
       "      <td>17.8%</td>\n",
       "      <td>3.23%</td>\n",
       "      <td>2.51%</td>\n",
       "      <td>6.89%</td>\n",
       "      <td>2.14%</td>\n",
       "      <td>0.82%</td>\n",
       "      <td>4.57%</td>\n",
       "      <td>0.24%</td>\n",
       "      <td>0.1%</td>\n",
       "      <td>5.93%</td>\n",
       "      <td>1.43%</td>\n",
       "      <td>0.29%</td>\n",
       "      <td>29.99%</td>\n",
       "      <td>4.86%</td>\n",
       "    </tr>\n",
       "    <tr>\n",
       "      <th>west</th>\n",
       "      <td>0.5%</td>\n",
       "      <td>1.25%</td>\n",
       "      <td>3.66%</td>\n",
       "      <td>8.07%</td>\n",
       "      <td>2.26%</td>\n",
       "      <td>0.12%</td>\n",
       "      <td>3.2%</td>\n",
       "      <td>17.87%</td>\n",
       "      <td>3.24%</td>\n",
       "      <td>2.54%</td>\n",
       "      <td>6.85%</td>\n",
       "      <td>2.15%</td>\n",
       "      <td>0.82%</td>\n",
       "      <td>4.6%</td>\n",
       "      <td>0.23%</td>\n",
       "      <td>0.1%</td>\n",
       "      <td>5.97%</td>\n",
       "      <td>1.39%</td>\n",
       "      <td>0.31%</td>\n",
       "      <td>29.95%</td>\n",
       "      <td>4.91%</td>\n",
       "    </tr>\n",
       "  </tbody>\n",
       "</table>\n",
       "</div>"
      ],
      "text/plain": [
       "department alcohol babies bakery beverages breakfast   bulk canned goods  \\\n",
       "region                                                                     \n",
       "midwest       0.5%  1.27%  3.64%     8.12%     2.22%  0.12%        3.19%   \n",
       "northeast    0.48%  1.29%  3.68%     8.34%     2.22%  0.11%        3.15%   \n",
       "south         0.5%  1.31%  3.63%     8.21%     2.24%  0.11%         3.2%   \n",
       "west          0.5%  1.25%  3.66%     8.07%     2.26%  0.12%         3.2%   \n",
       "\n",
       "department dairy eggs   deli dry goods pasta frozen household international  \\\n",
       "region                                                                        \n",
       "midwest        17.81%  3.24%           2.54%  6.84%     2.19%         0.82%   \n",
       "northeast      17.87%  3.26%            2.5%  6.79%     2.18%         0.81%   \n",
       "south           17.8%  3.23%           2.51%  6.89%     2.14%         0.82%   \n",
       "west           17.87%  3.24%           2.54%  6.85%     2.15%         0.82%   \n",
       "\n",
       "department meat seafood missing other pantry personal care   pets produce  \\\n",
       "region                                                                      \n",
       "midwest           4.56%   0.24%  0.1%  5.98%         1.43%   0.3%  30.04%   \n",
       "northeast         4.55%   0.24%  0.1%  5.92%         1.41%  0.33%  29.84%   \n",
       "south             4.57%   0.24%  0.1%  5.93%         1.43%  0.29%  29.99%   \n",
       "west               4.6%   0.23%  0.1%  5.97%         1.39%  0.31%  29.95%   \n",
       "\n",
       "department snacks  \n",
       "region             \n",
       "midwest     4.86%  \n",
       "northeast   4.93%  \n",
       "south       4.86%  \n",
       "west        4.91%  "
      ]
     },
     "execution_count": 52,
     "metadata": {},
     "output_type": "execute_result"
    }
   ],
   "source": [
    "# which departments contribute the most and the least to the total value of purchases for meat/seafood buyers.\n",
    "\n",
    "region_cross_tab = pd.crosstab(insta_df['region'], insta_df['department'], values=insta_df['prices'], aggfunc='sum', normalize='index') * 100\n",
    "region_cross_tab = region_cross_tab.round(2).astype(str) + '%'\n",
    "region_cross_tab"
   ]
  },
  {
   "cell_type": "markdown",
   "id": "e76addd7",
   "metadata": {},
   "source": [
    "There is no significant difference in the department composition of orders for the different regions."
   ]
  },
  {
   "cell_type": "markdown",
   "id": "347841ad",
   "metadata": {},
   "source": [
    "# 4. Order Time Analysis"
   ]
  },
  {
   "cell_type": "markdown",
   "id": "7538cc8d",
   "metadata": {},
   "source": [
    "### A. Day of Week"
   ]
  },
  {
   "cell_type": "code",
   "execution_count": 311,
   "id": "a8b70479",
   "metadata": {
    "scrolled": false
   },
   "outputs": [
    {
     "data": {
      "image/png": "[encoded data removed]",
      "text/plain": [
       "<Figure size 640x480 with 1 Axes>"
      ]
     },
     "metadata": {},
     "output_type": "display_data"
    }
   ],
   "source": [
    "# bar chart for number of orders per day of week\n",
    "order_dow_counts = grouped_df['order_dow'].value_counts() / 1e6\n",
    "plt.bar(order_dow_counts.index, order_dow_counts.values, align='center')\n",
    "plt.xlabel('Day of Week')\n",
    "plt.ylabel('Number of Orders (Millions)')\n",
    "plt.title('Distribution of Orders by Day of Week')\n",
    "plt.xticks(rotation=0)\n",
    "plt.savefig('/Volumes/external_drive/Instacart/Analysis/order_dow_bar.png', dpi=300)\n",
    "plt.show()"
   ]
  },
  {
   "cell_type": "code",
   "execution_count": 328,
   "id": "658a887b",
   "metadata": {},
   "outputs": [
    {
     "data": {
      "image/png": "[encoded data removed]",
      "text/plain": [
       "<Figure size 640x480 with 1 Axes>"
      ]
     },
     "metadata": {},
     "output_type": "display_data"
    }
   ],
   "source": [
    "# bar chart for number of orders per hour of day \n",
    "order_dow_counts = grouped_df['order_hour_of_day'].value_counts() / 1e6\n",
    "plt.bar(order_dow_counts.index, order_dow_counts.values, align='center')\n",
    "plt.xlabel('Hour of Day')\n",
    "plt.ylabel('Number of Orders (Millions)')\n",
    "plt.title('Distribution of Orders by Hour of Day')\n",
    "plt.xticks(rotation=0)\n",
    "plt.savefig('/Volumes/external_drive/Instacart/Analysis/order_hour.png', dpi=300)\n",
    "plt.show()"
   ]
  },
  {
   "cell_type": "code",
   "execution_count": 305,
   "id": "448ba5fa",
   "metadata": {
    "scrolled": false
   },
   "outputs": [
    {
     "data": {
      "image/png": "[encoded data removed]",
      "text/plain": [
       "<Figure size 640x480 with 1 Axes>"
      ]
     },
     "metadata": {},
     "output_type": "display_data"
    }
   ],
   "source": [
    "# creating line chart showing the average order value per day of week\n",
    "np.random.seed(4)\n",
    "dev = np.random.rand(len(grouped_df)) <= 0.7\n",
    "big = grouped_df[dev]\n",
    "small = grouped_df[~dev]\n",
    "grouped_df_2 = small[['order_dow', 'prices']]\n",
    "line_prices_dow = sns.lineplot(data=grouped_df_2, x='order_dow', y='prices')\n",
    "line_prices_dow.set(xlabel='Day of Week', ylabel='Average Order Value')\n",
    "line_prices_dow.set_title('Average Order Value Per Day of Week')\n",
    "line_prices_dow.figure.savefig('/Volumes/external_drive/Instacart/Analysis/line_prices_dow.png', dpi=300)"
   ]
  },
  {
   "cell_type": "code",
   "execution_count": 309,
   "id": "e91dd2bb",
   "metadata": {},
   "outputs": [
    {
     "data": {
      "image/png": "[encoded data removed]",
      "text/plain": [
       "<Figure size 640x480 with 1 Axes>"
      ]
     },
     "metadata": {},
     "output_type": "display_data"
    }
   ],
   "source": [
    "# creating line chart showing the average order value per hour of day\n",
    "np.random.seed(4)\n",
    "dev = np.random.rand(len(grouped_df)) <= 0.7\n",
    "big = grouped_df[dev]\n",
    "small = grouped_df[~dev]\n",
    "grouped_df_3 = small[['order_hour_of_day', 'prices']]\n",
    "line_prices_dow = sns.lineplot(data=grouped_df_3, x='order_hour_of_day', y='prices')\n",
    "line_prices_dow.set(xlabel='Hour of Day', ylabel='Average Order Value')\n",
    "line_prices_dow.set_title('Average Order Value Per Hour of Day')\n",
    "line_prices_dow.figure.savefig('/Volumes/external_drive/Instacart/Analysis/line_prices_hour.png', dpi=300)"
   ]
  }
 ],
 "metadata": {
  "kernelspec": {
   "display_name": "Python 3 (ipykernel)",
   "language": "python",
   "name": "python3"
  },
  "language_info": {
   "codemirror_mode": {
    "name": "ipython",
    "version": 3
   },
   "file_extension": ".py",
   "mimetype": "text/x-python",
   "name": "python",
   "nbconvert_exporter": "python",
   "pygments_lexer": "ipython3",
   "version": "3.10.9"
  }
 },
 "nbformat": 4,
 "nbformat_minor": 5
}
